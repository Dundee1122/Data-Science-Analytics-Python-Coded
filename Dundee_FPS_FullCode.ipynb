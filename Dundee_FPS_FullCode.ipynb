{
  "cells": [
    {
      "cell_type": "markdown",
      "metadata": {
        "id": "view-in-github",
        "colab_type": "text"
      },
      "source": [
        "<a href=\"https://colab.research.google.com/github/Dundee1122/Data-Science-Analytics-Python-Coded/blob/main/Dundee_FPS_FullCode.ipynb\" target=\"_parent\"><img src=\"https://colab.research.google.com/assets/colab-badge.svg\" alt=\"Open In Colab\"/></a>"
      ]
    },
    {
      "cell_type": "markdown",
      "metadata": {
        "id": "Gc8x8QimJY_H"
      },
      "source": [
        "# MIT Applied Data Science\n",
        "Project Foundations for Data Science: FoodHub Data Analysis\n",
        "\n",
        "**Grade: 58/60**"
      ]
    },
    {
      "cell_type": "markdown",
      "metadata": {
        "id": "NqikjkWwJY_L"
      },
      "source": [
        "### Context\n",
        "\n",
        "The number of restaurants in New York is increasing day by day. Lots of students and busy professionals rely on those restaurants due to their hectic lifestyles. Online food delivery service is a great option for them. It provides them with good food from their favorite restaurants. A food aggregator company FoodHub offers access to multiple restaurants through a single smartphone app.\n",
        "\n",
        "The app allows the restaurants to receive a direct online order from a customer. The app assigns a delivery person from the company to pick up the order after it is confirmed by the restaurant. The delivery person then uses the map to reach the restaurant and waits for the food package. Once the food package is handed over to the delivery person, he/she confirms the pick-up in the app and travels to the customer's location to deliver the food. The delivery person confirms the drop-off in the app after delivering the food package to the customer. The customer can rate the order in the app. The food aggregator earns money by collecting a fixed margin of the delivery order from the restaurants.\n",
        "\n",
        "### Objective\n",
        "\n",
        "The food aggregator company has stored the data of the different orders made by the registered customers in their online portal. They want to analyze the data to get a fair idea about the demand of different restaurants which will help them in enhancing their customer experience. Suppose you are hired as a Data Scientist in this company and the Data Science team has shared some of the key questions that need to be answered. Perform the data analysis to find answers to these questions that will help the company to improve the business.\n",
        "\n",
        "### Data Description\n",
        "\n",
        "The data contains the different data related to food order delivery. The detailed data dictionary is given below.\n",
        "\n",
        "### Data Dictionary\n",
        "\n",
        "* order_id: Unique ID of the order\n",
        "* customer_id: ID of the customer who ordered the food\n",
        "* restaurant_name: Name of the restaurant\n",
        "* cuisine_type: Cuisine ordered by the customer\n",
        "* cost: Cost of the order\n",
        "* day_of_the_week: Indicates whether the order is placed on a weekday or weekend (The weekday is from Monday to Friday and the weekend is Saturday and Sunday)\n",
        "* rating: Rating given by the customer out of 5\n",
        "* food_preparation_time: Time (in minutes) taken by the restaurant to prepare the food. This is calculated by taking the difference between the timestamps of the restaurant's order confirmation and the delivery person's pick-up confirmation.\n",
        "* delivery_time: Time (in minutes) taken by the delivery person to deliver the food package. This is calculated by taking the difference between the timestamps of the delivery person's pick-up confirmation and drop-off information"
      ]
    },
    {
      "cell_type": "markdown",
      "metadata": {
        "id": "cEtNUxNAJY_M"
      },
      "source": [
        "### Importing the required libraries"
      ]
    },
    {
      "cell_type": "code",
      "execution_count": null,
      "metadata": {
        "id": "u6PlpJAPJY_N"
      },
      "outputs": [],
      "source": [
        "# import libraries for data manipulation\n",
        "import numpy as np\n",
        "import pandas as pd\n",
        "\n",
        "# import libraries for data visualization\n",
        "import matplotlib.pyplot as plt\n",
        "import seaborn as sns\n",
        "\n",
        "# Library to suppress warnings\n",
        "import warnings\n",
        "warnings.filterwarnings('ignore')"
      ]
    },
    {
      "cell_type": "markdown",
      "source": [
        "### Importing the data"
      ],
      "metadata": {
        "id": "S8NfBXeKC3DD"
      }
    },
    {
      "cell_type": "code",
      "source": [
        "from google.colab import drive\n",
        "drive.mount('/content/drive')"
      ],
      "metadata": {
        "colab": {
          "base_uri": "https://localhost:8080/"
        },
        "id": "MDI33WVWDF96",
        "outputId": "e8861973-0e83-4cf3-ec7b-4b51245c8139"
      },
      "execution_count": null,
      "outputs": [
        {
          "output_type": "stream",
          "name": "stdout",
          "text": [
            "Mounted at /content/drive\n"
          ]
        }
      ]
    },
    {
      "cell_type": "markdown",
      "metadata": {
        "id": "AdracY0HJY_O"
      },
      "source": [
        "### Understanding the structure of the data"
      ]
    },
    {
      "cell_type": "code",
      "execution_count": null,
      "metadata": {
        "id": "GF01IZDbJY_O",
        "scrolled": true,
        "colab": {
          "base_uri": "https://localhost:8080/",
          "height": 206
        },
        "outputId": "c2cae607-d730-426e-ca99-9d6d6423804e"
      },
      "outputs": [
        {
          "output_type": "execute_result",
          "data": {
            "text/plain": [
              "   order_id  customer_id            restaurant_name cuisine_type  \\\n",
              "0   1477147       337525                    Hangawi       Korean   \n",
              "1   1477685       358141  Blue Ribbon Sushi Izakaya     Japanese   \n",
              "2   1477070        66393                Cafe Habana      Mexican   \n",
              "3   1477334       106968  Blue Ribbon Fried Chicken     American   \n",
              "4   1478249        76942           Dirty Bird to Go     American   \n",
              "\n",
              "   cost_of_the_order day_of_the_week     rating  food_preparation_time  \\\n",
              "0              30.75         Weekend  Not given                     25   \n",
              "1              12.08         Weekend  Not given                     25   \n",
              "2              12.23         Weekday          5                     23   \n",
              "3              29.20         Weekend          3                     25   \n",
              "4              11.59         Weekday          4                     25   \n",
              "\n",
              "   delivery_time  \n",
              "0             20  \n",
              "1             23  \n",
              "2             28  \n",
              "3             15  \n",
              "4             24  "
            ],
            "text/html": [
              "\n",
              "  <div id=\"df-f5498570-30b9-4b75-97b5-28cecaf4cc4e\" class=\"colab-df-container\">\n",
              "    <div>\n",
              "<style scoped>\n",
              "    .dataframe tbody tr th:only-of-type {\n",
              "        vertical-align: middle;\n",
              "    }\n",
              "\n",
              "    .dataframe tbody tr th {\n",
              "        vertical-align: top;\n",
              "    }\n",
              "\n",
              "    .dataframe thead th {\n",
              "        text-align: right;\n",
              "    }\n",
              "</style>\n",
              "<table border=\"1\" class=\"dataframe\">\n",
              "  <thead>\n",
              "    <tr style=\"text-align: right;\">\n",
              "      <th></th>\n",
              "      <th>order_id</th>\n",
              "      <th>customer_id</th>\n",
              "      <th>restaurant_name</th>\n",
              "      <th>cuisine_type</th>\n",
              "      <th>cost_of_the_order</th>\n",
              "      <th>day_of_the_week</th>\n",
              "      <th>rating</th>\n",
              "      <th>food_preparation_time</th>\n",
              "      <th>delivery_time</th>\n",
              "    </tr>\n",
              "  </thead>\n",
              "  <tbody>\n",
              "    <tr>\n",
              "      <th>0</th>\n",
              "      <td>1477147</td>\n",
              "      <td>337525</td>\n",
              "      <td>Hangawi</td>\n",
              "      <td>Korean</td>\n",
              "      <td>30.75</td>\n",
              "      <td>Weekend</td>\n",
              "      <td>Not given</td>\n",
              "      <td>25</td>\n",
              "      <td>20</td>\n",
              "    </tr>\n",
              "    <tr>\n",
              "      <th>1</th>\n",
              "      <td>1477685</td>\n",
              "      <td>358141</td>\n",
              "      <td>Blue Ribbon Sushi Izakaya</td>\n",
              "      <td>Japanese</td>\n",
              "      <td>12.08</td>\n",
              "      <td>Weekend</td>\n",
              "      <td>Not given</td>\n",
              "      <td>25</td>\n",
              "      <td>23</td>\n",
              "    </tr>\n",
              "    <tr>\n",
              "      <th>2</th>\n",
              "      <td>1477070</td>\n",
              "      <td>66393</td>\n",
              "      <td>Cafe Habana</td>\n",
              "      <td>Mexican</td>\n",
              "      <td>12.23</td>\n",
              "      <td>Weekday</td>\n",
              "      <td>5</td>\n",
              "      <td>23</td>\n",
              "      <td>28</td>\n",
              "    </tr>\n",
              "    <tr>\n",
              "      <th>3</th>\n",
              "      <td>1477334</td>\n",
              "      <td>106968</td>\n",
              "      <td>Blue Ribbon Fried Chicken</td>\n",
              "      <td>American</td>\n",
              "      <td>29.20</td>\n",
              "      <td>Weekend</td>\n",
              "      <td>3</td>\n",
              "      <td>25</td>\n",
              "      <td>15</td>\n",
              "    </tr>\n",
              "    <tr>\n",
              "      <th>4</th>\n",
              "      <td>1478249</td>\n",
              "      <td>76942</td>\n",
              "      <td>Dirty Bird to Go</td>\n",
              "      <td>American</td>\n",
              "      <td>11.59</td>\n",
              "      <td>Weekday</td>\n",
              "      <td>4</td>\n",
              "      <td>25</td>\n",
              "      <td>24</td>\n",
              "    </tr>\n",
              "  </tbody>\n",
              "</table>\n",
              "</div>\n",
              "    <div class=\"colab-df-buttons\">\n",
              "\n",
              "  <div class=\"colab-df-container\">\n",
              "    <button class=\"colab-df-convert\" onclick=\"convertToInteractive('df-f5498570-30b9-4b75-97b5-28cecaf4cc4e')\"\n",
              "            title=\"Convert this dataframe to an interactive table.\"\n",
              "            style=\"display:none;\">\n",
              "\n",
              "  <svg xmlns=\"http://www.w3.org/2000/svg\" height=\"24px\" viewBox=\"0 -960 960 960\">\n",
              "    <path d=\"M120-120v-720h720v720H120Zm60-500h600v-160H180v160Zm220 220h160v-160H400v160Zm0 220h160v-160H400v160ZM180-400h160v-160H180v160Zm440 0h160v-160H620v160ZM180-180h160v-160H180v160Zm440 0h160v-160H620v160Z\"/>\n",
              "  </svg>\n",
              "    </button>\n",
              "\n",
              "  <style>\n",
              "    .colab-df-container {\n",
              "      display:flex;\n",
              "      gap: 12px;\n",
              "    }\n",
              "\n",
              "    .colab-df-convert {\n",
              "      background-color: #E8F0FE;\n",
              "      border: none;\n",
              "      border-radius: 50%;\n",
              "      cursor: pointer;\n",
              "      display: none;\n",
              "      fill: #1967D2;\n",
              "      height: 32px;\n",
              "      padding: 0 0 0 0;\n",
              "      width: 32px;\n",
              "    }\n",
              "\n",
              "    .colab-df-convert:hover {\n",
              "      background-color: #E2EBFA;\n",
              "      box-shadow: 0px 1px 2px rgba(60, 64, 67, 0.3), 0px 1px 3px 1px rgba(60, 64, 67, 0.15);\n",
              "      fill: #174EA6;\n",
              "    }\n",
              "\n",
              "    .colab-df-buttons div {\n",
              "      margin-bottom: 4px;\n",
              "    }\n",
              "\n",
              "    [theme=dark] .colab-df-convert {\n",
              "      background-color: #3B4455;\n",
              "      fill: #D2E3FC;\n",
              "    }\n",
              "\n",
              "    [theme=dark] .colab-df-convert:hover {\n",
              "      background-color: #434B5C;\n",
              "      box-shadow: 0px 1px 3px 1px rgba(0, 0, 0, 0.15);\n",
              "      filter: drop-shadow(0px 1px 2px rgba(0, 0, 0, 0.3));\n",
              "      fill: #FFFFFF;\n",
              "    }\n",
              "  </style>\n",
              "\n",
              "    <script>\n",
              "      const buttonEl =\n",
              "        document.querySelector('#df-f5498570-30b9-4b75-97b5-28cecaf4cc4e button.colab-df-convert');\n",
              "      buttonEl.style.display =\n",
              "        google.colab.kernel.accessAllowed ? 'block' : 'none';\n",
              "\n",
              "      async function convertToInteractive(key) {\n",
              "        const element = document.querySelector('#df-f5498570-30b9-4b75-97b5-28cecaf4cc4e');\n",
              "        const dataTable =\n",
              "          await google.colab.kernel.invokeFunction('convertToInteractive',\n",
              "                                                    [key], {});\n",
              "        if (!dataTable) return;\n",
              "\n",
              "        const docLinkHtml = 'Like what you see? Visit the ' +\n",
              "          '<a target=\"_blank\" href=https://colab.research.google.com/notebooks/data_table.ipynb>data table notebook</a>'\n",
              "          + ' to learn more about interactive tables.';\n",
              "        element.innerHTML = '';\n",
              "        dataTable['output_type'] = 'display_data';\n",
              "        await google.colab.output.renderOutput(dataTable, element);\n",
              "        const docLink = document.createElement('div');\n",
              "        docLink.innerHTML = docLinkHtml;\n",
              "        element.appendChild(docLink);\n",
              "      }\n",
              "    </script>\n",
              "  </div>\n",
              "\n",
              "\n",
              "<div id=\"df-1c90ccd4-53d0-4103-a40a-3e19cfea35a8\">\n",
              "  <button class=\"colab-df-quickchart\" onclick=\"quickchart('df-1c90ccd4-53d0-4103-a40a-3e19cfea35a8')\"\n",
              "            title=\"Suggest charts\"\n",
              "            style=\"display:none;\">\n",
              "\n",
              "<svg xmlns=\"http://www.w3.org/2000/svg\" height=\"24px\"viewBox=\"0 0 24 24\"\n",
              "     width=\"24px\">\n",
              "    <g>\n",
              "        <path d=\"M19 3H5c-1.1 0-2 .9-2 2v14c0 1.1.9 2 2 2h14c1.1 0 2-.9 2-2V5c0-1.1-.9-2-2-2zM9 17H7v-7h2v7zm4 0h-2V7h2v10zm4 0h-2v-4h2v4z\"/>\n",
              "    </g>\n",
              "</svg>\n",
              "  </button>\n",
              "\n",
              "<style>\n",
              "  .colab-df-quickchart {\n",
              "      --bg-color: #E8F0FE;\n",
              "      --fill-color: #1967D2;\n",
              "      --hover-bg-color: #E2EBFA;\n",
              "      --hover-fill-color: #174EA6;\n",
              "      --disabled-fill-color: #AAA;\n",
              "      --disabled-bg-color: #DDD;\n",
              "  }\n",
              "\n",
              "  [theme=dark] .colab-df-quickchart {\n",
              "      --bg-color: #3B4455;\n",
              "      --fill-color: #D2E3FC;\n",
              "      --hover-bg-color: #434B5C;\n",
              "      --hover-fill-color: #FFFFFF;\n",
              "      --disabled-bg-color: #3B4455;\n",
              "      --disabled-fill-color: #666;\n",
              "  }\n",
              "\n",
              "  .colab-df-quickchart {\n",
              "    background-color: var(--bg-color);\n",
              "    border: none;\n",
              "    border-radius: 50%;\n",
              "    cursor: pointer;\n",
              "    display: none;\n",
              "    fill: var(--fill-color);\n",
              "    height: 32px;\n",
              "    padding: 0;\n",
              "    width: 32px;\n",
              "  }\n",
              "\n",
              "  .colab-df-quickchart:hover {\n",
              "    background-color: var(--hover-bg-color);\n",
              "    box-shadow: 0 1px 2px rgba(60, 64, 67, 0.3), 0 1px 3px 1px rgba(60, 64, 67, 0.15);\n",
              "    fill: var(--button-hover-fill-color);\n",
              "  }\n",
              "\n",
              "  .colab-df-quickchart-complete:disabled,\n",
              "  .colab-df-quickchart-complete:disabled:hover {\n",
              "    background-color: var(--disabled-bg-color);\n",
              "    fill: var(--disabled-fill-color);\n",
              "    box-shadow: none;\n",
              "  }\n",
              "\n",
              "  .colab-df-spinner {\n",
              "    border: 2px solid var(--fill-color);\n",
              "    border-color: transparent;\n",
              "    border-bottom-color: var(--fill-color);\n",
              "    animation:\n",
              "      spin 1s steps(1) infinite;\n",
              "  }\n",
              "\n",
              "  @keyframes spin {\n",
              "    0% {\n",
              "      border-color: transparent;\n",
              "      border-bottom-color: var(--fill-color);\n",
              "      border-left-color: var(--fill-color);\n",
              "    }\n",
              "    20% {\n",
              "      border-color: transparent;\n",
              "      border-left-color: var(--fill-color);\n",
              "      border-top-color: var(--fill-color);\n",
              "    }\n",
              "    30% {\n",
              "      border-color: transparent;\n",
              "      border-left-color: var(--fill-color);\n",
              "      border-top-color: var(--fill-color);\n",
              "      border-right-color: var(--fill-color);\n",
              "    }\n",
              "    40% {\n",
              "      border-color: transparent;\n",
              "      border-right-color: var(--fill-color);\n",
              "      border-top-color: var(--fill-color);\n",
              "    }\n",
              "    60% {\n",
              "      border-color: transparent;\n",
              "      border-right-color: var(--fill-color);\n",
              "    }\n",
              "    80% {\n",
              "      border-color: transparent;\n",
              "      border-right-color: var(--fill-color);\n",
              "      border-bottom-color: var(--fill-color);\n",
              "    }\n",
              "    90% {\n",
              "      border-color: transparent;\n",
              "      border-bottom-color: var(--fill-color);\n",
              "    }\n",
              "  }\n",
              "</style>\n",
              "\n",
              "  <script>\n",
              "    async function quickchart(key) {\n",
              "      const quickchartButtonEl =\n",
              "        document.querySelector('#' + key + ' button');\n",
              "      quickchartButtonEl.disabled = true;  // To prevent multiple clicks.\n",
              "      quickchartButtonEl.classList.add('colab-df-spinner');\n",
              "      try {\n",
              "        const charts = await google.colab.kernel.invokeFunction(\n",
              "            'suggestCharts', [key], {});\n",
              "      } catch (error) {\n",
              "        console.error('Error during call to suggestCharts:', error);\n",
              "      }\n",
              "      quickchartButtonEl.classList.remove('colab-df-spinner');\n",
              "      quickchartButtonEl.classList.add('colab-df-quickchart-complete');\n",
              "    }\n",
              "    (() => {\n",
              "      let quickchartButtonEl =\n",
              "        document.querySelector('#df-1c90ccd4-53d0-4103-a40a-3e19cfea35a8 button');\n",
              "      quickchartButtonEl.style.display =\n",
              "        google.colab.kernel.accessAllowed ? 'block' : 'none';\n",
              "    })();\n",
              "  </script>\n",
              "</div>\n",
              "    </div>\n",
              "  </div>\n"
            ],
            "application/vnd.google.colaboratory.intrinsic+json": {
              "type": "dataframe",
              "variable_name": "df",
              "summary": "{\n  \"name\": \"df\",\n  \"rows\": 1898,\n  \"fields\": [\n    {\n      \"column\": \"order_id\",\n      \"properties\": {\n        \"dtype\": \"number\",\n        \"std\": 548,\n        \"min\": 1476547,\n        \"max\": 1478444,\n        \"num_unique_values\": 1898,\n        \"samples\": [\n          1477722,\n          1478319,\n          1477650\n        ],\n        \"semantic_type\": \"\",\n        \"description\": \"\"\n      }\n    },\n    {\n      \"column\": \"customer_id\",\n      \"properties\": {\n        \"dtype\": \"number\",\n        \"std\": 113698,\n        \"min\": 1311,\n        \"max\": 405334,\n        \"num_unique_values\": 1200,\n        \"samples\": [\n          351329,\n          49987,\n          345899\n        ],\n        \"semantic_type\": \"\",\n        \"description\": \"\"\n      }\n    },\n    {\n      \"column\": \"restaurant_name\",\n      \"properties\": {\n        \"dtype\": \"category\",\n        \"num_unique_values\": 178,\n        \"samples\": [\n          \"Tortaria\",\n          \"Osteria Morini\",\n          \"Philippe Chow\"\n        ],\n        \"semantic_type\": \"\",\n        \"description\": \"\"\n      }\n    },\n    {\n      \"column\": \"cuisine_type\",\n      \"properties\": {\n        \"dtype\": \"category\",\n        \"num_unique_values\": 14,\n        \"samples\": [\n          \"Thai\",\n          \"French\",\n          \"Korean\"\n        ],\n        \"semantic_type\": \"\",\n        \"description\": \"\"\n      }\n    },\n    {\n      \"column\": \"cost_of_the_order\",\n      \"properties\": {\n        \"dtype\": \"number\",\n        \"std\": 7.48381211004957,\n        \"min\": 4.47,\n        \"max\": 35.41,\n        \"num_unique_values\": 312,\n        \"samples\": [\n          21.29,\n          7.18,\n          13.34\n        ],\n        \"semantic_type\": \"\",\n        \"description\": \"\"\n      }\n    },\n    {\n      \"column\": \"day_of_the_week\",\n      \"properties\": {\n        \"dtype\": \"category\",\n        \"num_unique_values\": 2,\n        \"samples\": [\n          \"Weekday\",\n          \"Weekend\"\n        ],\n        \"semantic_type\": \"\",\n        \"description\": \"\"\n      }\n    },\n    {\n      \"column\": \"rating\",\n      \"properties\": {\n        \"dtype\": \"category\",\n        \"num_unique_values\": 4,\n        \"samples\": [\n          \"5\",\n          \"4\"\n        ],\n        \"semantic_type\": \"\",\n        \"description\": \"\"\n      }\n    },\n    {\n      \"column\": \"food_preparation_time\",\n      \"properties\": {\n        \"dtype\": \"number\",\n        \"std\": 4,\n        \"min\": 20,\n        \"max\": 35,\n        \"num_unique_values\": 16,\n        \"samples\": [\n          25,\n          23\n        ],\n        \"semantic_type\": \"\",\n        \"description\": \"\"\n      }\n    },\n    {\n      \"column\": \"delivery_time\",\n      \"properties\": {\n        \"dtype\": \"number\",\n        \"std\": 4,\n        \"min\": 15,\n        \"max\": 33,\n        \"num_unique_values\": 19,\n        \"samples\": [\n          20,\n          21\n        ],\n        \"semantic_type\": \"\",\n        \"description\": \"\"\n      }\n    }\n  ]\n}"
            }
          },
          "metadata": {},
          "execution_count": 3
        }
      ],
      "source": [
        "# read the data\n",
        "df = pd.read_csv('/content/drive/MyDrive/Datasets/foodhub_order.csv')\n",
        "# returns the first 5 rows\n",
        "df.head()"
      ]
    },
    {
      "cell_type": "markdown",
      "metadata": {
        "id": "J_Y9aJDJJY_P"
      },
      "source": [
        "#### Observations:\n",
        "\n",
        "* As mentioned in the Data Dictionary, each row has nine columns that capture categorical data including restaurant names and cuisine as well as whether the deliveries were made on a weekend or weekday.\n",
        "* Numerical data is also provided, offering order costs, separate food prep and delivery times, each customer's id and their rating for the service.\n",
        "* In summary, the data in each row corresponds to the order placed by a customer."
      ]
    },
    {
      "cell_type": "code",
      "execution_count": null,
      "metadata": {
        "id": "Yvz5i-PhJY_Q",
        "colab": {
          "base_uri": "https://localhost:8080/"
        },
        "outputId": "fbdcc620-f26f-44f7-c31a-2504125cae43"
      },
      "outputs": [
        {
          "output_type": "stream",
          "name": "stdout",
          "text": [
            "The number of rows and columns in this dataset are: (1898, 9), respectively.\n"
          ]
        }
      ],
      "source": [
        "# find number of rows and columns\n",
        "print(f'The number of rows and columns in this dataset are: {df.shape}, respectively.')"
      ]
    },
    {
      "cell_type": "markdown",
      "metadata": {
        "id": "UsTNy3unJY_R"
      },
      "source": [
        "The dataset has 1898 rows and 9 columns.\n"
      ]
    },
    {
      "cell_type": "code",
      "execution_count": null,
      "metadata": {
        "id": "Kp70Z0BNJY_R",
        "colab": {
          "base_uri": "https://localhost:8080/"
        },
        "outputId": "eca18287-d00d-4056-aa62-6f6aa93ffa27"
      },
      "outputs": [
        {
          "output_type": "stream",
          "name": "stdout",
          "text": [
            "<class 'pandas.core.frame.DataFrame'>\n",
            "RangeIndex: 1898 entries, 0 to 1897\n",
            "Data columns (total 9 columns):\n",
            " #   Column                 Non-Null Count  Dtype  \n",
            "---  ------                 --------------  -----  \n",
            " 0   order_id               1898 non-null   int64  \n",
            " 1   customer_id            1898 non-null   int64  \n",
            " 2   restaurant_name        1898 non-null   object \n",
            " 3   cuisine_type           1898 non-null   object \n",
            " 4   cost_of_the_order      1898 non-null   float64\n",
            " 5   day_of_the_week        1898 non-null   object \n",
            " 6   rating                 1898 non-null   object \n",
            " 7   food_preparation_time  1898 non-null   int64  \n",
            " 8   delivery_time          1898 non-null   int64  \n",
            "dtypes: float64(1), int64(4), object(4)\n",
            "memory usage: 133.6+ KB\n"
          ]
        }
      ],
      "source": [
        "# understand structure and datatype content of the dataset\n",
        "df.info()"
      ]
    },
    {
      "cell_type": "markdown",
      "metadata": {
        "id": "WJes5GP2JY_S"
      },
      "source": [
        "#### Observations\n",
        "\n",
        "* Of the nine columns, five are numerical and four are objects.\n",
        "* Cuisine type and day of the week are objects and should be transmuted into categorical variables for analysis.\n",
        "* All columns have an equal number of observations, 1898, indicating that there may be no missing values in the dataset.\n",
        "* However, the first five rows tells us that there is a value of 'Not given' used in the ratings column, which will require further investigation and potential treatment."
      ]
    },
    {
      "cell_type": "code",
      "execution_count": null,
      "metadata": {
        "id": "Zth-RR1PJY_S",
        "colab": {
          "base_uri": "https://localhost:8080/"
        },
        "outputId": "1007c8b7-b82c-49ae-fe9b-7a5f69a98e04"
      },
      "outputs": [
        {
          "output_type": "execute_result",
          "data": {
            "text/plain": [
              "order_id                 0.0\n",
              "customer_id              0.0\n",
              "restaurant_name            0\n",
              "cuisine_type               0\n",
              "cost_of_the_order        0.0\n",
              "day_of_the_week            0\n",
              "rating                     0\n",
              "food_preparation_time    0.0\n",
              "delivery_time            0.0\n",
              "dtype: object"
            ]
          },
          "metadata": {},
          "execution_count": 6
        }
      ],
      "source": [
        "# first approach: confirm whether there are missing values in dataset\n",
        "df[df.isin([\"NA\", \"N/A\", \"-\"])].sum()"
      ]
    },
    {
      "cell_type": "markdown",
      "source": [
        "There are no missing values in the dataset."
      ],
      "metadata": {
        "id": "Bp2Ej0ChMFkT"
      }
    },
    {
      "cell_type": "code",
      "source": [
        "# second approach: identify the non-numeric values in the dataset\n",
        "df.describe(exclude = 'number').T"
      ],
      "metadata": {
        "colab": {
          "base_uri": "https://localhost:8080/",
          "height": 175
        },
        "id": "nPyPVhSmRhdF",
        "outputId": "6df6b067-768f-4c10-ed5d-322c08b53c3e"
      },
      "execution_count": null,
      "outputs": [
        {
          "output_type": "execute_result",
          "data": {
            "text/plain": [
              "                count unique          top  freq\n",
              "restaurant_name  1898    178  Shake Shack   219\n",
              "cuisine_type     1898     14     American   584\n",
              "day_of_the_week  1898      2      Weekend  1351\n",
              "rating           1898      4    Not given   736"
            ],
            "text/html": [
              "\n",
              "  <div id=\"df-59111e0a-4cb3-4e1b-af11-b9328552e05b\" class=\"colab-df-container\">\n",
              "    <div>\n",
              "<style scoped>\n",
              "    .dataframe tbody tr th:only-of-type {\n",
              "        vertical-align: middle;\n",
              "    }\n",
              "\n",
              "    .dataframe tbody tr th {\n",
              "        vertical-align: top;\n",
              "    }\n",
              "\n",
              "    .dataframe thead th {\n",
              "        text-align: right;\n",
              "    }\n",
              "</style>\n",
              "<table border=\"1\" class=\"dataframe\">\n",
              "  <thead>\n",
              "    <tr style=\"text-align: right;\">\n",
              "      <th></th>\n",
              "      <th>count</th>\n",
              "      <th>unique</th>\n",
              "      <th>top</th>\n",
              "      <th>freq</th>\n",
              "    </tr>\n",
              "  </thead>\n",
              "  <tbody>\n",
              "    <tr>\n",
              "      <th>restaurant_name</th>\n",
              "      <td>1898</td>\n",
              "      <td>178</td>\n",
              "      <td>Shake Shack</td>\n",
              "      <td>219</td>\n",
              "    </tr>\n",
              "    <tr>\n",
              "      <th>cuisine_type</th>\n",
              "      <td>1898</td>\n",
              "      <td>14</td>\n",
              "      <td>American</td>\n",
              "      <td>584</td>\n",
              "    </tr>\n",
              "    <tr>\n",
              "      <th>day_of_the_week</th>\n",
              "      <td>1898</td>\n",
              "      <td>2</td>\n",
              "      <td>Weekend</td>\n",
              "      <td>1351</td>\n",
              "    </tr>\n",
              "    <tr>\n",
              "      <th>rating</th>\n",
              "      <td>1898</td>\n",
              "      <td>4</td>\n",
              "      <td>Not given</td>\n",
              "      <td>736</td>\n",
              "    </tr>\n",
              "  </tbody>\n",
              "</table>\n",
              "</div>\n",
              "    <div class=\"colab-df-buttons\">\n",
              "\n",
              "  <div class=\"colab-df-container\">\n",
              "    <button class=\"colab-df-convert\" onclick=\"convertToInteractive('df-59111e0a-4cb3-4e1b-af11-b9328552e05b')\"\n",
              "            title=\"Convert this dataframe to an interactive table.\"\n",
              "            style=\"display:none;\">\n",
              "\n",
              "  <svg xmlns=\"http://www.w3.org/2000/svg\" height=\"24px\" viewBox=\"0 -960 960 960\">\n",
              "    <path d=\"M120-120v-720h720v720H120Zm60-500h600v-160H180v160Zm220 220h160v-160H400v160Zm0 220h160v-160H400v160ZM180-400h160v-160H180v160Zm440 0h160v-160H620v160ZM180-180h160v-160H180v160Zm440 0h160v-160H620v160Z\"/>\n",
              "  </svg>\n",
              "    </button>\n",
              "\n",
              "  <style>\n",
              "    .colab-df-container {\n",
              "      display:flex;\n",
              "      gap: 12px;\n",
              "    }\n",
              "\n",
              "    .colab-df-convert {\n",
              "      background-color: #E8F0FE;\n",
              "      border: none;\n",
              "      border-radius: 50%;\n",
              "      cursor: pointer;\n",
              "      display: none;\n",
              "      fill: #1967D2;\n",
              "      height: 32px;\n",
              "      padding: 0 0 0 0;\n",
              "      width: 32px;\n",
              "    }\n",
              "\n",
              "    .colab-df-convert:hover {\n",
              "      background-color: #E2EBFA;\n",
              "      box-shadow: 0px 1px 2px rgba(60, 64, 67, 0.3), 0px 1px 3px 1px rgba(60, 64, 67, 0.15);\n",
              "      fill: #174EA6;\n",
              "    }\n",
              "\n",
              "    .colab-df-buttons div {\n",
              "      margin-bottom: 4px;\n",
              "    }\n",
              "\n",
              "    [theme=dark] .colab-df-convert {\n",
              "      background-color: #3B4455;\n",
              "      fill: #D2E3FC;\n",
              "    }\n",
              "\n",
              "    [theme=dark] .colab-df-convert:hover {\n",
              "      background-color: #434B5C;\n",
              "      box-shadow: 0px 1px 3px 1px rgba(0, 0, 0, 0.15);\n",
              "      filter: drop-shadow(0px 1px 2px rgba(0, 0, 0, 0.3));\n",
              "      fill: #FFFFFF;\n",
              "    }\n",
              "  </style>\n",
              "\n",
              "    <script>\n",
              "      const buttonEl =\n",
              "        document.querySelector('#df-59111e0a-4cb3-4e1b-af11-b9328552e05b button.colab-df-convert');\n",
              "      buttonEl.style.display =\n",
              "        google.colab.kernel.accessAllowed ? 'block' : 'none';\n",
              "\n",
              "      async function convertToInteractive(key) {\n",
              "        const element = document.querySelector('#df-59111e0a-4cb3-4e1b-af11-b9328552e05b');\n",
              "        const dataTable =\n",
              "          await google.colab.kernel.invokeFunction('convertToInteractive',\n",
              "                                                    [key], {});\n",
              "        if (!dataTable) return;\n",
              "\n",
              "        const docLinkHtml = 'Like what you see? Visit the ' +\n",
              "          '<a target=\"_blank\" href=https://colab.research.google.com/notebooks/data_table.ipynb>data table notebook</a>'\n",
              "          + ' to learn more about interactive tables.';\n",
              "        element.innerHTML = '';\n",
              "        dataTable['output_type'] = 'display_data';\n",
              "        await google.colab.output.renderOutput(dataTable, element);\n",
              "        const docLink = document.createElement('div');\n",
              "        docLink.innerHTML = docLinkHtml;\n",
              "        element.appendChild(docLink);\n",
              "      }\n",
              "    </script>\n",
              "  </div>\n",
              "\n",
              "\n",
              "<div id=\"df-d3253918-1936-4752-ac90-6109a3e1a5ef\">\n",
              "  <button class=\"colab-df-quickchart\" onclick=\"quickchart('df-d3253918-1936-4752-ac90-6109a3e1a5ef')\"\n",
              "            title=\"Suggest charts\"\n",
              "            style=\"display:none;\">\n",
              "\n",
              "<svg xmlns=\"http://www.w3.org/2000/svg\" height=\"24px\"viewBox=\"0 0 24 24\"\n",
              "     width=\"24px\">\n",
              "    <g>\n",
              "        <path d=\"M19 3H5c-1.1 0-2 .9-2 2v14c0 1.1.9 2 2 2h14c1.1 0 2-.9 2-2V5c0-1.1-.9-2-2-2zM9 17H7v-7h2v7zm4 0h-2V7h2v10zm4 0h-2v-4h2v4z\"/>\n",
              "    </g>\n",
              "</svg>\n",
              "  </button>\n",
              "\n",
              "<style>\n",
              "  .colab-df-quickchart {\n",
              "      --bg-color: #E8F0FE;\n",
              "      --fill-color: #1967D2;\n",
              "      --hover-bg-color: #E2EBFA;\n",
              "      --hover-fill-color: #174EA6;\n",
              "      --disabled-fill-color: #AAA;\n",
              "      --disabled-bg-color: #DDD;\n",
              "  }\n",
              "\n",
              "  [theme=dark] .colab-df-quickchart {\n",
              "      --bg-color: #3B4455;\n",
              "      --fill-color: #D2E3FC;\n",
              "      --hover-bg-color: #434B5C;\n",
              "      --hover-fill-color: #FFFFFF;\n",
              "      --disabled-bg-color: #3B4455;\n",
              "      --disabled-fill-color: #666;\n",
              "  }\n",
              "\n",
              "  .colab-df-quickchart {\n",
              "    background-color: var(--bg-color);\n",
              "    border: none;\n",
              "    border-radius: 50%;\n",
              "    cursor: pointer;\n",
              "    display: none;\n",
              "    fill: var(--fill-color);\n",
              "    height: 32px;\n",
              "    padding: 0;\n",
              "    width: 32px;\n",
              "  }\n",
              "\n",
              "  .colab-df-quickchart:hover {\n",
              "    background-color: var(--hover-bg-color);\n",
              "    box-shadow: 0 1px 2px rgba(60, 64, 67, 0.3), 0 1px 3px 1px rgba(60, 64, 67, 0.15);\n",
              "    fill: var(--button-hover-fill-color);\n",
              "  }\n",
              "\n",
              "  .colab-df-quickchart-complete:disabled,\n",
              "  .colab-df-quickchart-complete:disabled:hover {\n",
              "    background-color: var(--disabled-bg-color);\n",
              "    fill: var(--disabled-fill-color);\n",
              "    box-shadow: none;\n",
              "  }\n",
              "\n",
              "  .colab-df-spinner {\n",
              "    border: 2px solid var(--fill-color);\n",
              "    border-color: transparent;\n",
              "    border-bottom-color: var(--fill-color);\n",
              "    animation:\n",
              "      spin 1s steps(1) infinite;\n",
              "  }\n",
              "\n",
              "  @keyframes spin {\n",
              "    0% {\n",
              "      border-color: transparent;\n",
              "      border-bottom-color: var(--fill-color);\n",
              "      border-left-color: var(--fill-color);\n",
              "    }\n",
              "    20% {\n",
              "      border-color: transparent;\n",
              "      border-left-color: var(--fill-color);\n",
              "      border-top-color: var(--fill-color);\n",
              "    }\n",
              "    30% {\n",
              "      border-color: transparent;\n",
              "      border-left-color: var(--fill-color);\n",
              "      border-top-color: var(--fill-color);\n",
              "      border-right-color: var(--fill-color);\n",
              "    }\n",
              "    40% {\n",
              "      border-color: transparent;\n",
              "      border-right-color: var(--fill-color);\n",
              "      border-top-color: var(--fill-color);\n",
              "    }\n",
              "    60% {\n",
              "      border-color: transparent;\n",
              "      border-right-color: var(--fill-color);\n",
              "    }\n",
              "    80% {\n",
              "      border-color: transparent;\n",
              "      border-right-color: var(--fill-color);\n",
              "      border-bottom-color: var(--fill-color);\n",
              "    }\n",
              "    90% {\n",
              "      border-color: transparent;\n",
              "      border-bottom-color: var(--fill-color);\n",
              "    }\n",
              "  }\n",
              "</style>\n",
              "\n",
              "  <script>\n",
              "    async function quickchart(key) {\n",
              "      const quickchartButtonEl =\n",
              "        document.querySelector('#' + key + ' button');\n",
              "      quickchartButtonEl.disabled = true;  // To prevent multiple clicks.\n",
              "      quickchartButtonEl.classList.add('colab-df-spinner');\n",
              "      try {\n",
              "        const charts = await google.colab.kernel.invokeFunction(\n",
              "            'suggestCharts', [key], {});\n",
              "      } catch (error) {\n",
              "        console.error('Error during call to suggestCharts:', error);\n",
              "      }\n",
              "      quickchartButtonEl.classList.remove('colab-df-spinner');\n",
              "      quickchartButtonEl.classList.add('colab-df-quickchart-complete');\n",
              "    }\n",
              "    (() => {\n",
              "      let quickchartButtonEl =\n",
              "        document.querySelector('#df-d3253918-1936-4752-ac90-6109a3e1a5ef button');\n",
              "      quickchartButtonEl.style.display =\n",
              "        google.colab.kernel.accessAllowed ? 'block' : 'none';\n",
              "    })();\n",
              "  </script>\n",
              "</div>\n",
              "    </div>\n",
              "  </div>\n"
            ],
            "application/vnd.google.colaboratory.intrinsic+json": {
              "type": "dataframe",
              "summary": "{\n  \"name\": \"df\",\n  \"rows\": 4,\n  \"fields\": [\n    {\n      \"column\": \"count\",\n      \"properties\": {\n        \"dtype\": \"date\",\n        \"min\": \"1898\",\n        \"max\": \"1898\",\n        \"num_unique_values\": 1,\n        \"samples\": [\n          \"1898\"\n        ],\n        \"semantic_type\": \"\",\n        \"description\": \"\"\n      }\n    },\n    {\n      \"column\": \"unique\",\n      \"properties\": {\n        \"dtype\": \"date\",\n        \"min\": 2,\n        \"max\": 178,\n        \"num_unique_values\": 4,\n        \"samples\": [\n          14\n        ],\n        \"semantic_type\": \"\",\n        \"description\": \"\"\n      }\n    },\n    {\n      \"column\": \"top\",\n      \"properties\": {\n        \"dtype\": \"string\",\n        \"num_unique_values\": 4,\n        \"samples\": [\n          \"American\"\n        ],\n        \"semantic_type\": \"\",\n        \"description\": \"\"\n      }\n    },\n    {\n      \"column\": \"freq\",\n      \"properties\": {\n        \"dtype\": \"date\",\n        \"min\": \"219\",\n        \"max\": \"1351\",\n        \"num_unique_values\": 4,\n        \"samples\": [\n          \"584\"\n        ],\n        \"semantic_type\": \"\",\n        \"description\": \"\"\n      }\n    }\n  ]\n}"
            }
          },
          "metadata": {},
          "execution_count": 7
        }
      ]
    },
    {
      "cell_type": "markdown",
      "metadata": {
        "id": "5E0O_oviJY_T"
      },
      "source": [
        "#### Observations:\n",
        "* There are 736 occurrences of *Not given* in the rating column.\n",
        "* The column will not be deleted because even though a significant portion of the data is missing (736/1898), the remaining ratings are most likely  statistically relevant, especially if they represent a diverse and representative sample.\n",
        "* I will perform statistical analyses using the available ratings, do acknowledge the presence of this missing data, and will consider potential biases.\n"
      ]
    },
    {
      "cell_type": "code",
      "source": [
        "# replace 'Not given' ratings with a Nan so calculations can be performed in the ratings column\n",
        "df['rating'].replace('Not given', np.nan, inplace = True)\n",
        "# convert the rating column to numeric to confirm all values are suitable for statistical analysis\n",
        "df['rating'] = pd.to_numeric(df['rating'])"
      ],
      "metadata": {
        "id": "CsbzOSVSSu0G"
      },
      "execution_count": null,
      "outputs": []
    },
    {
      "cell_type": "code",
      "source": [
        "# check that replacements have been made\n",
        "df.head()"
      ],
      "metadata": {
        "colab": {
          "base_uri": "https://localhost:8080/",
          "height": 206
        },
        "id": "epzkdMWLTgzd",
        "outputId": "9d96e091-bb13-4070-cc48-edbff25c4089"
      },
      "execution_count": null,
      "outputs": [
        {
          "output_type": "execute_result",
          "data": {
            "text/plain": [
              "   order_id  customer_id            restaurant_name cuisine_type  \\\n",
              "0   1477147       337525                    Hangawi       Korean   \n",
              "1   1477685       358141  Blue Ribbon Sushi Izakaya     Japanese   \n",
              "2   1477070        66393                Cafe Habana      Mexican   \n",
              "3   1477334       106968  Blue Ribbon Fried Chicken     American   \n",
              "4   1478249        76942           Dirty Bird to Go     American   \n",
              "\n",
              "   cost_of_the_order day_of_the_week  rating  food_preparation_time  \\\n",
              "0              30.75         Weekend     NaN                     25   \n",
              "1              12.08         Weekend     NaN                     25   \n",
              "2              12.23         Weekday     5.0                     23   \n",
              "3              29.20         Weekend     3.0                     25   \n",
              "4              11.59         Weekday     4.0                     25   \n",
              "\n",
              "   delivery_time  \n",
              "0             20  \n",
              "1             23  \n",
              "2             28  \n",
              "3             15  \n",
              "4             24  "
            ],
            "text/html": [
              "\n",
              "  <div id=\"df-cea220e4-e253-4286-abb4-1bb17eee6195\" class=\"colab-df-container\">\n",
              "    <div>\n",
              "<style scoped>\n",
              "    .dataframe tbody tr th:only-of-type {\n",
              "        vertical-align: middle;\n",
              "    }\n",
              "\n",
              "    .dataframe tbody tr th {\n",
              "        vertical-align: top;\n",
              "    }\n",
              "\n",
              "    .dataframe thead th {\n",
              "        text-align: right;\n",
              "    }\n",
              "</style>\n",
              "<table border=\"1\" class=\"dataframe\">\n",
              "  <thead>\n",
              "    <tr style=\"text-align: right;\">\n",
              "      <th></th>\n",
              "      <th>order_id</th>\n",
              "      <th>customer_id</th>\n",
              "      <th>restaurant_name</th>\n",
              "      <th>cuisine_type</th>\n",
              "      <th>cost_of_the_order</th>\n",
              "      <th>day_of_the_week</th>\n",
              "      <th>rating</th>\n",
              "      <th>food_preparation_time</th>\n",
              "      <th>delivery_time</th>\n",
              "    </tr>\n",
              "  </thead>\n",
              "  <tbody>\n",
              "    <tr>\n",
              "      <th>0</th>\n",
              "      <td>1477147</td>\n",
              "      <td>337525</td>\n",
              "      <td>Hangawi</td>\n",
              "      <td>Korean</td>\n",
              "      <td>30.75</td>\n",
              "      <td>Weekend</td>\n",
              "      <td>NaN</td>\n",
              "      <td>25</td>\n",
              "      <td>20</td>\n",
              "    </tr>\n",
              "    <tr>\n",
              "      <th>1</th>\n",
              "      <td>1477685</td>\n",
              "      <td>358141</td>\n",
              "      <td>Blue Ribbon Sushi Izakaya</td>\n",
              "      <td>Japanese</td>\n",
              "      <td>12.08</td>\n",
              "      <td>Weekend</td>\n",
              "      <td>NaN</td>\n",
              "      <td>25</td>\n",
              "      <td>23</td>\n",
              "    </tr>\n",
              "    <tr>\n",
              "      <th>2</th>\n",
              "      <td>1477070</td>\n",
              "      <td>66393</td>\n",
              "      <td>Cafe Habana</td>\n",
              "      <td>Mexican</td>\n",
              "      <td>12.23</td>\n",
              "      <td>Weekday</td>\n",
              "      <td>5.0</td>\n",
              "      <td>23</td>\n",
              "      <td>28</td>\n",
              "    </tr>\n",
              "    <tr>\n",
              "      <th>3</th>\n",
              "      <td>1477334</td>\n",
              "      <td>106968</td>\n",
              "      <td>Blue Ribbon Fried Chicken</td>\n",
              "      <td>American</td>\n",
              "      <td>29.20</td>\n",
              "      <td>Weekend</td>\n",
              "      <td>3.0</td>\n",
              "      <td>25</td>\n",
              "      <td>15</td>\n",
              "    </tr>\n",
              "    <tr>\n",
              "      <th>4</th>\n",
              "      <td>1478249</td>\n",
              "      <td>76942</td>\n",
              "      <td>Dirty Bird to Go</td>\n",
              "      <td>American</td>\n",
              "      <td>11.59</td>\n",
              "      <td>Weekday</td>\n",
              "      <td>4.0</td>\n",
              "      <td>25</td>\n",
              "      <td>24</td>\n",
              "    </tr>\n",
              "  </tbody>\n",
              "</table>\n",
              "</div>\n",
              "    <div class=\"colab-df-buttons\">\n",
              "\n",
              "  <div class=\"colab-df-container\">\n",
              "    <button class=\"colab-df-convert\" onclick=\"convertToInteractive('df-cea220e4-e253-4286-abb4-1bb17eee6195')\"\n",
              "            title=\"Convert this dataframe to an interactive table.\"\n",
              "            style=\"display:none;\">\n",
              "\n",
              "  <svg xmlns=\"http://www.w3.org/2000/svg\" height=\"24px\" viewBox=\"0 -960 960 960\">\n",
              "    <path d=\"M120-120v-720h720v720H120Zm60-500h600v-160H180v160Zm220 220h160v-160H400v160Zm0 220h160v-160H400v160ZM180-400h160v-160H180v160Zm440 0h160v-160H620v160ZM180-180h160v-160H180v160Zm440 0h160v-160H620v160Z\"/>\n",
              "  </svg>\n",
              "    </button>\n",
              "\n",
              "  <style>\n",
              "    .colab-df-container {\n",
              "      display:flex;\n",
              "      gap: 12px;\n",
              "    }\n",
              "\n",
              "    .colab-df-convert {\n",
              "      background-color: #E8F0FE;\n",
              "      border: none;\n",
              "      border-radius: 50%;\n",
              "      cursor: pointer;\n",
              "      display: none;\n",
              "      fill: #1967D2;\n",
              "      height: 32px;\n",
              "      padding: 0 0 0 0;\n",
              "      width: 32px;\n",
              "    }\n",
              "\n",
              "    .colab-df-convert:hover {\n",
              "      background-color: #E2EBFA;\n",
              "      box-shadow: 0px 1px 2px rgba(60, 64, 67, 0.3), 0px 1px 3px 1px rgba(60, 64, 67, 0.15);\n",
              "      fill: #174EA6;\n",
              "    }\n",
              "\n",
              "    .colab-df-buttons div {\n",
              "      margin-bottom: 4px;\n",
              "    }\n",
              "\n",
              "    [theme=dark] .colab-df-convert {\n",
              "      background-color: #3B4455;\n",
              "      fill: #D2E3FC;\n",
              "    }\n",
              "\n",
              "    [theme=dark] .colab-df-convert:hover {\n",
              "      background-color: #434B5C;\n",
              "      box-shadow: 0px 1px 3px 1px rgba(0, 0, 0, 0.15);\n",
              "      filter: drop-shadow(0px 1px 2px rgba(0, 0, 0, 0.3));\n",
              "      fill: #FFFFFF;\n",
              "    }\n",
              "  </style>\n",
              "\n",
              "    <script>\n",
              "      const buttonEl =\n",
              "        document.querySelector('#df-cea220e4-e253-4286-abb4-1bb17eee6195 button.colab-df-convert');\n",
              "      buttonEl.style.display =\n",
              "        google.colab.kernel.accessAllowed ? 'block' : 'none';\n",
              "\n",
              "      async function convertToInteractive(key) {\n",
              "        const element = document.querySelector('#df-cea220e4-e253-4286-abb4-1bb17eee6195');\n",
              "        const dataTable =\n",
              "          await google.colab.kernel.invokeFunction('convertToInteractive',\n",
              "                                                    [key], {});\n",
              "        if (!dataTable) return;\n",
              "\n",
              "        const docLinkHtml = 'Like what you see? Visit the ' +\n",
              "          '<a target=\"_blank\" href=https://colab.research.google.com/notebooks/data_table.ipynb>data table notebook</a>'\n",
              "          + ' to learn more about interactive tables.';\n",
              "        element.innerHTML = '';\n",
              "        dataTable['output_type'] = 'display_data';\n",
              "        await google.colab.output.renderOutput(dataTable, element);\n",
              "        const docLink = document.createElement('div');\n",
              "        docLink.innerHTML = docLinkHtml;\n",
              "        element.appendChild(docLink);\n",
              "      }\n",
              "    </script>\n",
              "  </div>\n",
              "\n",
              "\n",
              "<div id=\"df-b71b433a-a071-4d54-8c21-dfcaaef63ef5\">\n",
              "  <button class=\"colab-df-quickchart\" onclick=\"quickchart('df-b71b433a-a071-4d54-8c21-dfcaaef63ef5')\"\n",
              "            title=\"Suggest charts\"\n",
              "            style=\"display:none;\">\n",
              "\n",
              "<svg xmlns=\"http://www.w3.org/2000/svg\" height=\"24px\"viewBox=\"0 0 24 24\"\n",
              "     width=\"24px\">\n",
              "    <g>\n",
              "        <path d=\"M19 3H5c-1.1 0-2 .9-2 2v14c0 1.1.9 2 2 2h14c1.1 0 2-.9 2-2V5c0-1.1-.9-2-2-2zM9 17H7v-7h2v7zm4 0h-2V7h2v10zm4 0h-2v-4h2v4z\"/>\n",
              "    </g>\n",
              "</svg>\n",
              "  </button>\n",
              "\n",
              "<style>\n",
              "  .colab-df-quickchart {\n",
              "      --bg-color: #E8F0FE;\n",
              "      --fill-color: #1967D2;\n",
              "      --hover-bg-color: #E2EBFA;\n",
              "      --hover-fill-color: #174EA6;\n",
              "      --disabled-fill-color: #AAA;\n",
              "      --disabled-bg-color: #DDD;\n",
              "  }\n",
              "\n",
              "  [theme=dark] .colab-df-quickchart {\n",
              "      --bg-color: #3B4455;\n",
              "      --fill-color: #D2E3FC;\n",
              "      --hover-bg-color: #434B5C;\n",
              "      --hover-fill-color: #FFFFFF;\n",
              "      --disabled-bg-color: #3B4455;\n",
              "      --disabled-fill-color: #666;\n",
              "  }\n",
              "\n",
              "  .colab-df-quickchart {\n",
              "    background-color: var(--bg-color);\n",
              "    border: none;\n",
              "    border-radius: 50%;\n",
              "    cursor: pointer;\n",
              "    display: none;\n",
              "    fill: var(--fill-color);\n",
              "    height: 32px;\n",
              "    padding: 0;\n",
              "    width: 32px;\n",
              "  }\n",
              "\n",
              "  .colab-df-quickchart:hover {\n",
              "    background-color: var(--hover-bg-color);\n",
              "    box-shadow: 0 1px 2px rgba(60, 64, 67, 0.3), 0 1px 3px 1px rgba(60, 64, 67, 0.15);\n",
              "    fill: var(--button-hover-fill-color);\n",
              "  }\n",
              "\n",
              "  .colab-df-quickchart-complete:disabled,\n",
              "  .colab-df-quickchart-complete:disabled:hover {\n",
              "    background-color: var(--disabled-bg-color);\n",
              "    fill: var(--disabled-fill-color);\n",
              "    box-shadow: none;\n",
              "  }\n",
              "\n",
              "  .colab-df-spinner {\n",
              "    border: 2px solid var(--fill-color);\n",
              "    border-color: transparent;\n",
              "    border-bottom-color: var(--fill-color);\n",
              "    animation:\n",
              "      spin 1s steps(1) infinite;\n",
              "  }\n",
              "\n",
              "  @keyframes spin {\n",
              "    0% {\n",
              "      border-color: transparent;\n",
              "      border-bottom-color: var(--fill-color);\n",
              "      border-left-color: var(--fill-color);\n",
              "    }\n",
              "    20% {\n",
              "      border-color: transparent;\n",
              "      border-left-color: var(--fill-color);\n",
              "      border-top-color: var(--fill-color);\n",
              "    }\n",
              "    30% {\n",
              "      border-color: transparent;\n",
              "      border-left-color: var(--fill-color);\n",
              "      border-top-color: var(--fill-color);\n",
              "      border-right-color: var(--fill-color);\n",
              "    }\n",
              "    40% {\n",
              "      border-color: transparent;\n",
              "      border-right-color: var(--fill-color);\n",
              "      border-top-color: var(--fill-color);\n",
              "    }\n",
              "    60% {\n",
              "      border-color: transparent;\n",
              "      border-right-color: var(--fill-color);\n",
              "    }\n",
              "    80% {\n",
              "      border-color: transparent;\n",
              "      border-right-color: var(--fill-color);\n",
              "      border-bottom-color: var(--fill-color);\n",
              "    }\n",
              "    90% {\n",
              "      border-color: transparent;\n",
              "      border-bottom-color: var(--fill-color);\n",
              "    }\n",
              "  }\n",
              "</style>\n",
              "\n",
              "  <script>\n",
              "    async function quickchart(key) {\n",
              "      const quickchartButtonEl =\n",
              "        document.querySelector('#' + key + ' button');\n",
              "      quickchartButtonEl.disabled = true;  // To prevent multiple clicks.\n",
              "      quickchartButtonEl.classList.add('colab-df-spinner');\n",
              "      try {\n",
              "        const charts = await google.colab.kernel.invokeFunction(\n",
              "            'suggestCharts', [key], {});\n",
              "      } catch (error) {\n",
              "        console.error('Error during call to suggestCharts:', error);\n",
              "      }\n",
              "      quickchartButtonEl.classList.remove('colab-df-spinner');\n",
              "      quickchartButtonEl.classList.add('colab-df-quickchart-complete');\n",
              "    }\n",
              "    (() => {\n",
              "      let quickchartButtonEl =\n",
              "        document.querySelector('#df-b71b433a-a071-4d54-8c21-dfcaaef63ef5 button');\n",
              "      quickchartButtonEl.style.display =\n",
              "        google.colab.kernel.accessAllowed ? 'block' : 'none';\n",
              "    })();\n",
              "  </script>\n",
              "</div>\n",
              "    </div>\n",
              "  </div>\n"
            ],
            "application/vnd.google.colaboratory.intrinsic+json": {
              "type": "dataframe",
              "variable_name": "df",
              "summary": "{\n  \"name\": \"df\",\n  \"rows\": 1898,\n  \"fields\": [\n    {\n      \"column\": \"order_id\",\n      \"properties\": {\n        \"dtype\": \"number\",\n        \"std\": 548,\n        \"min\": 1476547,\n        \"max\": 1478444,\n        \"num_unique_values\": 1898,\n        \"samples\": [\n          1477722,\n          1478319,\n          1477650\n        ],\n        \"semantic_type\": \"\",\n        \"description\": \"\"\n      }\n    },\n    {\n      \"column\": \"customer_id\",\n      \"properties\": {\n        \"dtype\": \"number\",\n        \"std\": 113698,\n        \"min\": 1311,\n        \"max\": 405334,\n        \"num_unique_values\": 1200,\n        \"samples\": [\n          351329,\n          49987,\n          345899\n        ],\n        \"semantic_type\": \"\",\n        \"description\": \"\"\n      }\n    },\n    {\n      \"column\": \"restaurant_name\",\n      \"properties\": {\n        \"dtype\": \"category\",\n        \"num_unique_values\": 178,\n        \"samples\": [\n          \"Tortaria\",\n          \"Osteria Morini\",\n          \"Philippe Chow\"\n        ],\n        \"semantic_type\": \"\",\n        \"description\": \"\"\n      }\n    },\n    {\n      \"column\": \"cuisine_type\",\n      \"properties\": {\n        \"dtype\": \"category\",\n        \"num_unique_values\": 14,\n        \"samples\": [\n          \"Thai\",\n          \"French\",\n          \"Korean\"\n        ],\n        \"semantic_type\": \"\",\n        \"description\": \"\"\n      }\n    },\n    {\n      \"column\": \"cost_of_the_order\",\n      \"properties\": {\n        \"dtype\": \"number\",\n        \"std\": 7.48381211004957,\n        \"min\": 4.47,\n        \"max\": 35.41,\n        \"num_unique_values\": 312,\n        \"samples\": [\n          21.29,\n          7.18,\n          13.34\n        ],\n        \"semantic_type\": \"\",\n        \"description\": \"\"\n      }\n    },\n    {\n      \"column\": \"day_of_the_week\",\n      \"properties\": {\n        \"dtype\": \"category\",\n        \"num_unique_values\": 2,\n        \"samples\": [\n          \"Weekday\",\n          \"Weekend\"\n        ],\n        \"semantic_type\": \"\",\n        \"description\": \"\"\n      }\n    },\n    {\n      \"column\": \"rating\",\n      \"properties\": {\n        \"dtype\": \"number\",\n        \"std\": 0.7414783567985952,\n        \"min\": 3.0,\n        \"max\": 5.0,\n        \"num_unique_values\": 3,\n        \"samples\": [\n          5.0,\n          3.0\n        ],\n        \"semantic_type\": \"\",\n        \"description\": \"\"\n      }\n    },\n    {\n      \"column\": \"food_preparation_time\",\n      \"properties\": {\n        \"dtype\": \"number\",\n        \"std\": 4,\n        \"min\": 20,\n        \"max\": 35,\n        \"num_unique_values\": 16,\n        \"samples\": [\n          25,\n          23\n        ],\n        \"semantic_type\": \"\",\n        \"description\": \"\"\n      }\n    },\n    {\n      \"column\": \"delivery_time\",\n      \"properties\": {\n        \"dtype\": \"number\",\n        \"std\": 4,\n        \"min\": 15,\n        \"max\": 33,\n        \"num_unique_values\": 19,\n        \"samples\": [\n          20,\n          21\n        ],\n        \"semantic_type\": \"\",\n        \"description\": \"\"\n      }\n    }\n  ]\n}"
            }
          },
          "metadata": {},
          "execution_count": 9
        }
      ]
    },
    {
      "cell_type": "code",
      "source": [
        "# confirm that all numeric columns are float or integer\n",
        "df.info()"
      ],
      "metadata": {
        "colab": {
          "base_uri": "https://localhost:8080/"
        },
        "id": "ONvVOATPX4bO",
        "outputId": "b79d48a8-bc16-4077-aa1e-0d3a259002f6"
      },
      "execution_count": null,
      "outputs": [
        {
          "output_type": "stream",
          "name": "stdout",
          "text": [
            "<class 'pandas.core.frame.DataFrame'>\n",
            "RangeIndex: 1898 entries, 0 to 1897\n",
            "Data columns (total 9 columns):\n",
            " #   Column                 Non-Null Count  Dtype  \n",
            "---  ------                 --------------  -----  \n",
            " 0   order_id               1898 non-null   int64  \n",
            " 1   customer_id            1898 non-null   int64  \n",
            " 2   restaurant_name        1898 non-null   object \n",
            " 3   cuisine_type           1898 non-null   object \n",
            " 4   cost_of_the_order      1898 non-null   float64\n",
            " 5   day_of_the_week        1898 non-null   object \n",
            " 6   rating                 1162 non-null   float64\n",
            " 7   food_preparation_time  1898 non-null   int64  \n",
            " 8   delivery_time          1898 non-null   int64  \n",
            "dtypes: float64(2), int64(4), object(3)\n",
            "memory usage: 133.6+ KB\n"
          ]
        }
      ]
    },
    {
      "cell_type": "code",
      "source": [
        "# confirm unique values in rating column\n",
        "df['rating'].unique()"
      ],
      "metadata": {
        "colab": {
          "base_uri": "https://localhost:8080/"
        },
        "id": "duCRsvb_ZLG7",
        "outputId": "96ce277f-bf92-4ec4-9c11-76ec7951cf14"
      },
      "execution_count": null,
      "outputs": [
        {
          "output_type": "execute_result",
          "data": {
            "text/plain": [
              "array([nan,  5.,  3.,  4.])"
            ]
          },
          "metadata": {},
          "execution_count": 11
        }
      ]
    },
    {
      "cell_type": "code",
      "execution_count": null,
      "metadata": {
        "id": "hEzDUL9wgksi",
        "colab": {
          "base_uri": "https://localhost:8080/"
        },
        "outputId": "340c596b-e2f1-49d1-a1c3-9a4590c932f0"
      },
      "outputs": [
        {
          "output_type": "stream",
          "name": "stdout",
          "text": [
            "The number of orders not rated in this dataset is: 736\n"
          ]
        }
      ],
      "source": [
        "# find the number of orders not rated\n",
        "orders_not_rated = df['rating'].isna().sum()\n",
        "print('The number of orders not rated in this dataset is:', orders_not_rated)"
      ]
    },
    {
      "cell_type": "markdown",
      "metadata": {
        "id": "jDHT3vD1JY_S"
      },
      "source": [
        "#### Observations\n",
        "\n",
        "* There are 178 different restaurants that use this service, and the most popular restaurant is Shake Shack\n",
        "* There are 14 different types of cuisine ordered; the most popular cuisine ordered is American\n",
        "* Weekend deliveries are more numerous than weekday deliveries (Weekend: 1351/1898 or 71.18% )\n",
        "* All columns with numeric data are numeric datatypes\n",
        "* All categorical columns remain as object datatypes; will convert to category datatype during exploratory analysis as necessary\n",
        "* We can delete the order_id column without affecting data integrity but because the dataset is relatively small, it can remain"
      ]
    },
    {
      "cell_type": "markdown",
      "metadata": {
        "id": "MnJo7MWrJY_S"
      },
      "source": [
        "### Reviewing statistical summary of the data. What is the minimum, average, and maximum time it takes for food to be prepared once an order is placed?"
      ]
    },
    {
      "cell_type": "code",
      "execution_count": null,
      "metadata": {
        "id": "WprQBgOSJY_T",
        "colab": {
          "base_uri": "https://localhost:8080/",
          "height": 300
        },
        "outputId": "9ea6909a-c03a-4a4f-8ed2-2882cbffde97"
      },
      "outputs": [
        {
          "output_type": "execute_result",
          "data": {
            "text/plain": [
              "           order_id    customer_id  cost_of_the_order       rating  \\\n",
              "count  1.898000e+03    1898.000000        1898.000000  1162.000000   \n",
              "mean   1.477496e+06  171168.478398          16.498851     4.344234   \n",
              "std    5.480497e+02  113698.139743           7.483812     0.741478   \n",
              "min    1.476547e+06    1311.000000           4.470000     3.000000   \n",
              "25%    1.477021e+06   77787.750000          12.080000     4.000000   \n",
              "50%    1.477496e+06  128600.000000          14.140000     5.000000   \n",
              "75%    1.477970e+06  270525.000000          22.297500     5.000000   \n",
              "max    1.478444e+06  405334.000000          35.410000     5.000000   \n",
              "\n",
              "       food_preparation_time  delivery_time  \n",
              "count            1898.000000    1898.000000  \n",
              "mean               27.371970      24.161749  \n",
              "std                 4.632481       4.972637  \n",
              "min                20.000000      15.000000  \n",
              "25%                23.000000      20.000000  \n",
              "50%                27.000000      25.000000  \n",
              "75%                31.000000      28.000000  \n",
              "max                35.000000      33.000000  "
            ],
            "text/html": [
              "\n",
              "  <div id=\"df-906a7ada-4853-43ce-8ba9-42eb3a2d8c22\" class=\"colab-df-container\">\n",
              "    <div>\n",
              "<style scoped>\n",
              "    .dataframe tbody tr th:only-of-type {\n",
              "        vertical-align: middle;\n",
              "    }\n",
              "\n",
              "    .dataframe tbody tr th {\n",
              "        vertical-align: top;\n",
              "    }\n",
              "\n",
              "    .dataframe thead th {\n",
              "        text-align: right;\n",
              "    }\n",
              "</style>\n",
              "<table border=\"1\" class=\"dataframe\">\n",
              "  <thead>\n",
              "    <tr style=\"text-align: right;\">\n",
              "      <th></th>\n",
              "      <th>order_id</th>\n",
              "      <th>customer_id</th>\n",
              "      <th>cost_of_the_order</th>\n",
              "      <th>rating</th>\n",
              "      <th>food_preparation_time</th>\n",
              "      <th>delivery_time</th>\n",
              "    </tr>\n",
              "  </thead>\n",
              "  <tbody>\n",
              "    <tr>\n",
              "      <th>count</th>\n",
              "      <td>1.898000e+03</td>\n",
              "      <td>1898.000000</td>\n",
              "      <td>1898.000000</td>\n",
              "      <td>1162.000000</td>\n",
              "      <td>1898.000000</td>\n",
              "      <td>1898.000000</td>\n",
              "    </tr>\n",
              "    <tr>\n",
              "      <th>mean</th>\n",
              "      <td>1.477496e+06</td>\n",
              "      <td>171168.478398</td>\n",
              "      <td>16.498851</td>\n",
              "      <td>4.344234</td>\n",
              "      <td>27.371970</td>\n",
              "      <td>24.161749</td>\n",
              "    </tr>\n",
              "    <tr>\n",
              "      <th>std</th>\n",
              "      <td>5.480497e+02</td>\n",
              "      <td>113698.139743</td>\n",
              "      <td>7.483812</td>\n",
              "      <td>0.741478</td>\n",
              "      <td>4.632481</td>\n",
              "      <td>4.972637</td>\n",
              "    </tr>\n",
              "    <tr>\n",
              "      <th>min</th>\n",
              "      <td>1.476547e+06</td>\n",
              "      <td>1311.000000</td>\n",
              "      <td>4.470000</td>\n",
              "      <td>3.000000</td>\n",
              "      <td>20.000000</td>\n",
              "      <td>15.000000</td>\n",
              "    </tr>\n",
              "    <tr>\n",
              "      <th>25%</th>\n",
              "      <td>1.477021e+06</td>\n",
              "      <td>77787.750000</td>\n",
              "      <td>12.080000</td>\n",
              "      <td>4.000000</td>\n",
              "      <td>23.000000</td>\n",
              "      <td>20.000000</td>\n",
              "    </tr>\n",
              "    <tr>\n",
              "      <th>50%</th>\n",
              "      <td>1.477496e+06</td>\n",
              "      <td>128600.000000</td>\n",
              "      <td>14.140000</td>\n",
              "      <td>5.000000</td>\n",
              "      <td>27.000000</td>\n",
              "      <td>25.000000</td>\n",
              "    </tr>\n",
              "    <tr>\n",
              "      <th>75%</th>\n",
              "      <td>1.477970e+06</td>\n",
              "      <td>270525.000000</td>\n",
              "      <td>22.297500</td>\n",
              "      <td>5.000000</td>\n",
              "      <td>31.000000</td>\n",
              "      <td>28.000000</td>\n",
              "    </tr>\n",
              "    <tr>\n",
              "      <th>max</th>\n",
              "      <td>1.478444e+06</td>\n",
              "      <td>405334.000000</td>\n",
              "      <td>35.410000</td>\n",
              "      <td>5.000000</td>\n",
              "      <td>35.000000</td>\n",
              "      <td>33.000000</td>\n",
              "    </tr>\n",
              "  </tbody>\n",
              "</table>\n",
              "</div>\n",
              "    <div class=\"colab-df-buttons\">\n",
              "\n",
              "  <div class=\"colab-df-container\">\n",
              "    <button class=\"colab-df-convert\" onclick=\"convertToInteractive('df-906a7ada-4853-43ce-8ba9-42eb3a2d8c22')\"\n",
              "            title=\"Convert this dataframe to an interactive table.\"\n",
              "            style=\"display:none;\">\n",
              "\n",
              "  <svg xmlns=\"http://www.w3.org/2000/svg\" height=\"24px\" viewBox=\"0 -960 960 960\">\n",
              "    <path d=\"M120-120v-720h720v720H120Zm60-500h600v-160H180v160Zm220 220h160v-160H400v160Zm0 220h160v-160H400v160ZM180-400h160v-160H180v160Zm440 0h160v-160H620v160ZM180-180h160v-160H180v160Zm440 0h160v-160H620v160Z\"/>\n",
              "  </svg>\n",
              "    </button>\n",
              "\n",
              "  <style>\n",
              "    .colab-df-container {\n",
              "      display:flex;\n",
              "      gap: 12px;\n",
              "    }\n",
              "\n",
              "    .colab-df-convert {\n",
              "      background-color: #E8F0FE;\n",
              "      border: none;\n",
              "      border-radius: 50%;\n",
              "      cursor: pointer;\n",
              "      display: none;\n",
              "      fill: #1967D2;\n",
              "      height: 32px;\n",
              "      padding: 0 0 0 0;\n",
              "      width: 32px;\n",
              "    }\n",
              "\n",
              "    .colab-df-convert:hover {\n",
              "      background-color: #E2EBFA;\n",
              "      box-shadow: 0px 1px 2px rgba(60, 64, 67, 0.3), 0px 1px 3px 1px rgba(60, 64, 67, 0.15);\n",
              "      fill: #174EA6;\n",
              "    }\n",
              "\n",
              "    .colab-df-buttons div {\n",
              "      margin-bottom: 4px;\n",
              "    }\n",
              "\n",
              "    [theme=dark] .colab-df-convert {\n",
              "      background-color: #3B4455;\n",
              "      fill: #D2E3FC;\n",
              "    }\n",
              "\n",
              "    [theme=dark] .colab-df-convert:hover {\n",
              "      background-color: #434B5C;\n",
              "      box-shadow: 0px 1px 3px 1px rgba(0, 0, 0, 0.15);\n",
              "      filter: drop-shadow(0px 1px 2px rgba(0, 0, 0, 0.3));\n",
              "      fill: #FFFFFF;\n",
              "    }\n",
              "  </style>\n",
              "\n",
              "    <script>\n",
              "      const buttonEl =\n",
              "        document.querySelector('#df-906a7ada-4853-43ce-8ba9-42eb3a2d8c22 button.colab-df-convert');\n",
              "      buttonEl.style.display =\n",
              "        google.colab.kernel.accessAllowed ? 'block' : 'none';\n",
              "\n",
              "      async function convertToInteractive(key) {\n",
              "        const element = document.querySelector('#df-906a7ada-4853-43ce-8ba9-42eb3a2d8c22');\n",
              "        const dataTable =\n",
              "          await google.colab.kernel.invokeFunction('convertToInteractive',\n",
              "                                                    [key], {});\n",
              "        if (!dataTable) return;\n",
              "\n",
              "        const docLinkHtml = 'Like what you see? Visit the ' +\n",
              "          '<a target=\"_blank\" href=https://colab.research.google.com/notebooks/data_table.ipynb>data table notebook</a>'\n",
              "          + ' to learn more about interactive tables.';\n",
              "        element.innerHTML = '';\n",
              "        dataTable['output_type'] = 'display_data';\n",
              "        await google.colab.output.renderOutput(dataTable, element);\n",
              "        const docLink = document.createElement('div');\n",
              "        docLink.innerHTML = docLinkHtml;\n",
              "        element.appendChild(docLink);\n",
              "      }\n",
              "    </script>\n",
              "  </div>\n",
              "\n",
              "\n",
              "<div id=\"df-6acdf7c9-4883-4534-9df0-b0b4eecd0930\">\n",
              "  <button class=\"colab-df-quickchart\" onclick=\"quickchart('df-6acdf7c9-4883-4534-9df0-b0b4eecd0930')\"\n",
              "            title=\"Suggest charts\"\n",
              "            style=\"display:none;\">\n",
              "\n",
              "<svg xmlns=\"http://www.w3.org/2000/svg\" height=\"24px\"viewBox=\"0 0 24 24\"\n",
              "     width=\"24px\">\n",
              "    <g>\n",
              "        <path d=\"M19 3H5c-1.1 0-2 .9-2 2v14c0 1.1.9 2 2 2h14c1.1 0 2-.9 2-2V5c0-1.1-.9-2-2-2zM9 17H7v-7h2v7zm4 0h-2V7h2v10zm4 0h-2v-4h2v4z\"/>\n",
              "    </g>\n",
              "</svg>\n",
              "  </button>\n",
              "\n",
              "<style>\n",
              "  .colab-df-quickchart {\n",
              "      --bg-color: #E8F0FE;\n",
              "      --fill-color: #1967D2;\n",
              "      --hover-bg-color: #E2EBFA;\n",
              "      --hover-fill-color: #174EA6;\n",
              "      --disabled-fill-color: #AAA;\n",
              "      --disabled-bg-color: #DDD;\n",
              "  }\n",
              "\n",
              "  [theme=dark] .colab-df-quickchart {\n",
              "      --bg-color: #3B4455;\n",
              "      --fill-color: #D2E3FC;\n",
              "      --hover-bg-color: #434B5C;\n",
              "      --hover-fill-color: #FFFFFF;\n",
              "      --disabled-bg-color: #3B4455;\n",
              "      --disabled-fill-color: #666;\n",
              "  }\n",
              "\n",
              "  .colab-df-quickchart {\n",
              "    background-color: var(--bg-color);\n",
              "    border: none;\n",
              "    border-radius: 50%;\n",
              "    cursor: pointer;\n",
              "    display: none;\n",
              "    fill: var(--fill-color);\n",
              "    height: 32px;\n",
              "    padding: 0;\n",
              "    width: 32px;\n",
              "  }\n",
              "\n",
              "  .colab-df-quickchart:hover {\n",
              "    background-color: var(--hover-bg-color);\n",
              "    box-shadow: 0 1px 2px rgba(60, 64, 67, 0.3), 0 1px 3px 1px rgba(60, 64, 67, 0.15);\n",
              "    fill: var(--button-hover-fill-color);\n",
              "  }\n",
              "\n",
              "  .colab-df-quickchart-complete:disabled,\n",
              "  .colab-df-quickchart-complete:disabled:hover {\n",
              "    background-color: var(--disabled-bg-color);\n",
              "    fill: var(--disabled-fill-color);\n",
              "    box-shadow: none;\n",
              "  }\n",
              "\n",
              "  .colab-df-spinner {\n",
              "    border: 2px solid var(--fill-color);\n",
              "    border-color: transparent;\n",
              "    border-bottom-color: var(--fill-color);\n",
              "    animation:\n",
              "      spin 1s steps(1) infinite;\n",
              "  }\n",
              "\n",
              "  @keyframes spin {\n",
              "    0% {\n",
              "      border-color: transparent;\n",
              "      border-bottom-color: var(--fill-color);\n",
              "      border-left-color: var(--fill-color);\n",
              "    }\n",
              "    20% {\n",
              "      border-color: transparent;\n",
              "      border-left-color: var(--fill-color);\n",
              "      border-top-color: var(--fill-color);\n",
              "    }\n",
              "    30% {\n",
              "      border-color: transparent;\n",
              "      border-left-color: var(--fill-color);\n",
              "      border-top-color: var(--fill-color);\n",
              "      border-right-color: var(--fill-color);\n",
              "    }\n",
              "    40% {\n",
              "      border-color: transparent;\n",
              "      border-right-color: var(--fill-color);\n",
              "      border-top-color: var(--fill-color);\n",
              "    }\n",
              "    60% {\n",
              "      border-color: transparent;\n",
              "      border-right-color: var(--fill-color);\n",
              "    }\n",
              "    80% {\n",
              "      border-color: transparent;\n",
              "      border-right-color: var(--fill-color);\n",
              "      border-bottom-color: var(--fill-color);\n",
              "    }\n",
              "    90% {\n",
              "      border-color: transparent;\n",
              "      border-bottom-color: var(--fill-color);\n",
              "    }\n",
              "  }\n",
              "</style>\n",
              "\n",
              "  <script>\n",
              "    async function quickchart(key) {\n",
              "      const quickchartButtonEl =\n",
              "        document.querySelector('#' + key + ' button');\n",
              "      quickchartButtonEl.disabled = true;  // To prevent multiple clicks.\n",
              "      quickchartButtonEl.classList.add('colab-df-spinner');\n",
              "      try {\n",
              "        const charts = await google.colab.kernel.invokeFunction(\n",
              "            'suggestCharts', [key], {});\n",
              "      } catch (error) {\n",
              "        console.error('Error during call to suggestCharts:', error);\n",
              "      }\n",
              "      quickchartButtonEl.classList.remove('colab-df-spinner');\n",
              "      quickchartButtonEl.classList.add('colab-df-quickchart-complete');\n",
              "    }\n",
              "    (() => {\n",
              "      let quickchartButtonEl =\n",
              "        document.querySelector('#df-6acdf7c9-4883-4534-9df0-b0b4eecd0930 button');\n",
              "      quickchartButtonEl.style.display =\n",
              "        google.colab.kernel.accessAllowed ? 'block' : 'none';\n",
              "    })();\n",
              "  </script>\n",
              "</div>\n",
              "    </div>\n",
              "  </div>\n"
            ],
            "application/vnd.google.colaboratory.intrinsic+json": {
              "type": "dataframe",
              "summary": "{\n  \"name\": \"df\",\n  \"rows\": 8,\n  \"fields\": [\n    {\n      \"column\": \"order_id\",\n      \"properties\": {\n        \"dtype\": \"number\",\n        \"std\": 683381.6954349227,\n        \"min\": 548.0497240214614,\n        \"max\": 1478444.0,\n        \"num_unique_values\": 7,\n        \"samples\": [\n          1898.0,\n          1477495.5,\n          1477969.75\n        ],\n        \"semantic_type\": \"\",\n        \"description\": \"\"\n      }\n    },\n    {\n      \"column\": \"customer_id\",\n      \"properties\": {\n        \"dtype\": \"number\",\n        \"std\": 136848.58768663486,\n        \"min\": 1311.0,\n        \"max\": 405334.0,\n        \"num_unique_values\": 8,\n        \"samples\": [\n          171168.478398314,\n          128600.0,\n          1898.0\n        ],\n        \"semantic_type\": \"\",\n        \"description\": \"\"\n      }\n    },\n    {\n      \"column\": \"cost_of_the_order\",\n      \"properties\": {\n        \"dtype\": \"number\",\n        \"std\": 665.43708115231,\n        \"min\": 4.47,\n        \"max\": 1898.0,\n        \"num_unique_values\": 8,\n        \"samples\": [\n          16.498851422550054,\n          14.14,\n          1898.0\n        ],\n        \"semantic_type\": \"\",\n        \"description\": \"\"\n      }\n    },\n    {\n      \"column\": \"rating\",\n      \"properties\": {\n        \"dtype\": \"number\",\n        \"std\": 409.4635546698296,\n        \"min\": 0.7414783567985952,\n        \"max\": 1162.0,\n        \"num_unique_values\": 6,\n        \"samples\": [\n          1162.0,\n          4.344234079173838,\n          5.0\n        ],\n        \"semantic_type\": \"\",\n        \"description\": \"\"\n      }\n    },\n    {\n      \"column\": \"food_preparation_time\",\n      \"properties\": {\n        \"dtype\": \"number\",\n        \"std\": 662.6216207031504,\n        \"min\": 4.6324807759288555,\n        \"max\": 1898.0,\n        \"num_unique_values\": 8,\n        \"samples\": [\n          27.371970495258168,\n          27.0,\n          1898.0\n        ],\n        \"semantic_type\": \"\",\n        \"description\": \"\"\n      }\n    },\n    {\n      \"column\": \"delivery_time\",\n      \"properties\": {\n        \"dtype\": \"number\",\n        \"std\": 663.516466506826,\n        \"min\": 4.972636933991106,\n        \"max\": 1898.0,\n        \"num_unique_values\": 8,\n        \"samples\": [\n          24.161749209694417,\n          25.0,\n          1898.0\n        ],\n        \"semantic_type\": \"\",\n        \"description\": \"\"\n      }\n    }\n  ]\n}"
            }
          },
          "metadata": {},
          "execution_count": 13
        }
      ],
      "source": [
        "# check statistical summary of the data\n",
        "df.describe()"
      ]
    },
    {
      "cell_type": "markdown",
      "metadata": {
        "id": "9YbSOR5wJY_T"
      },
      "source": [
        "#### Observations\n",
        "* The minimum time it takes for food to be prepared once an order has been placed is 20 minutes.\n",
        "* The average time it takes for food to be prepared once an order has been placed is 27.37 minutes.\n",
        "* The maximum time it takes for food to be prepared once an order has been placed is 35 minutes.\n"
      ]
    },
    {
      "cell_type": "markdown",
      "metadata": {
        "id": "7msIfXE-JY_T"
      },
      "source": [
        "## **Exploratory Data Analysis (EDA)**"
      ]
    },
    {
      "cell_type": "markdown",
      "metadata": {
        "id": "-2xfI28YJY_T"
      },
      "source": [
        "### **Univariate Analysis**"
      ]
    },
    {
      "cell_type": "markdown",
      "source": [
        "####**Exploring numerical variables first**"
      ],
      "metadata": {
        "id": "KanjyfQaaoqS"
      }
    },
    {
      "cell_type": "markdown",
      "source": [
        "####Order ID"
      ],
      "metadata": {
        "id": "VenNxe7Yt1HM"
      }
    },
    {
      "cell_type": "code",
      "source": [
        "# exploring the numerical variables: order id\n",
        "orders = df['order_id'].nunique()\n",
        "print('There are', orders, 'orders in this dataset.')"
      ],
      "metadata": {
        "colab": {
          "base_uri": "https://localhost:8080/"
        },
        "id": "vLGKtQeWZAAM",
        "outputId": "d089264e-3c4c-45e1-cbe4-935299ac43d5"
      },
      "execution_count": null,
      "outputs": [
        {
          "output_type": "stream",
          "name": "stdout",
          "text": [
            "There are 1898 orders in this dataset.\n"
          ]
        }
      ]
    },
    {
      "cell_type": "markdown",
      "source": [
        "####Customer ID"
      ],
      "metadata": {
        "id": "GwZI21R2t-aW"
      }
    },
    {
      "cell_type": "code",
      "source": [
        "# exploring the numerical variables: customer id\n",
        "customers = df['customer_id'].nunique()\n",
        "print('There are', customers, 'customers in this dataset.')"
      ],
      "metadata": {
        "colab": {
          "base_uri": "https://localhost:8080/"
        },
        "id": "D3zBIrnZZoGx",
        "outputId": "991065a2-bbda-404b-a314-9bcbc712b5bf"
      },
      "execution_count": null,
      "outputs": [
        {
          "output_type": "stream",
          "name": "stdout",
          "text": [
            "There are 1200 customers in this dataset.\n"
          ]
        }
      ]
    },
    {
      "cell_type": "markdown",
      "source": [
        "####Observations\n",
        "\n",
        "* the range of order_id variables matches the total number of orders; deleting this column would not compromise the integrity of the dataset\n",
        "* the range of customer_ids is not as vast as the range of order_ids (1200 unique customers found within the 1898 orders), which tells us that some customers are repeat customers\n",
        "* given that ~1/3 of the orders are repeat customers, further statistical exploration of repeat customers may be worth exploring"
      ],
      "metadata": {
        "id": "Nf44n-5bZw1k"
      }
    },
    {
      "cell_type": "code",
      "execution_count": null,
      "metadata": {
        "id": "rU5ZqISjJY_U"
      },
      "outputs": [],
      "source": [
        "# function to calculate numerical variables via histograms and boxplots: exploring food preparation time, delivery time, cost per order\n",
        "\n",
        "def boxplot_histogram(feature, figsize=(12, 6), bins=\"auto\"):\n",
        "    \"\"\" Boxplot and histogram combined\n",
        "    feature: 1-d feature array\n",
        "    figsize: size of fig ((12, 6))\n",
        "    bins: number of bins (default \"auto\")\n",
        "    \"\"\"\n",
        "    f, (ax_box, ax_hist) = plt.subplots(\n",
        "        nrows=2,  # number of rows of the subplot grid\n",
        "        sharex=True,  #the X-axis will be shared among all the subplots\n",
        "        gridspec_kw={\"height_ratios\": (.25, .75)},\n",
        "        figsize=figsize\n",
        "    )\n",
        "\n",
        "    # creating the subplots\n",
        "    # boxplot will be created and the mean value of the column will be indicated using some symbol\n",
        "    sns.boxplot(x=feature, ax=ax_box, showmeans=True, color='darkkhaki')\n",
        "\n",
        "    # histogram will be created and the mean and mode values will be indicated\n",
        "    sns.histplot(x=feature, kde=False, color = '#151e3d', ax=ax_hist, bins=bins)\n",
        "    ax_hist.axvline(np.mean(feature), color='#d4af37', linestyle='-')      # adds mean to the histogram\n",
        "    ax_hist.axvline(np.median(feature), color='#8b0000', linestyle='--') # adds median to the histogram\n",
        "\n",
        "    sns.despine() # erase top and right borders of plots\n",
        "    plt.show()"
      ]
    },
    {
      "cell_type": "markdown",
      "source": [
        "####Food Preparation Time"
      ],
      "metadata": {
        "id": "wPVlwiqmuEc3"
      }
    },
    {
      "cell_type": "code",
      "source": [
        "# show order times to prepare food\n",
        "boxplot_histogram(df.food_preparation_time)"
      ],
      "metadata": {
        "colab": {
          "base_uri": "https://localhost:8080/",
          "height": 542
        },
        "id": "KWT-zVzzf2Mb",
        "outputId": "64247770-f42c-41c2-ffe9-1fd1eb852e2e"
      },
      "execution_count": null,
      "outputs": [
        {
          "output_type": "display_data",
          "data": {
            "text/plain": [
              "<Figure size 1200x600 with 2 Axes>"
            ],
            "image/png": "[encoded data removed]"
          },
          "metadata": {}
        }
      ]
    },
    {
      "cell_type": "markdown",
      "source": [
        "####Observations\n",
        "* The distribution of food prep time is multimodal, not quite symmetrical given that the mean and mode are not perfectly aligned\n",
        "* The average time it takes to prepare an order is just over 27 minutes and the median time is slightly less than 27 minutes\n"
      ],
      "metadata": {
        "id": "jZKjzfstgd33"
      }
    },
    {
      "cell_type": "markdown",
      "source": [
        "####Delivery Times"
      ],
      "metadata": {
        "id": "If5WcCVbuIu1"
      }
    },
    {
      "cell_type": "code",
      "source": [
        "# show delivery times\n",
        "boxplot_histogram(df.delivery_time)"
      ],
      "metadata": {
        "colab": {
          "base_uri": "https://localhost:8080/",
          "height": 542
        },
        "id": "0KBC0PVMhkid",
        "outputId": "8ad74786-8dce-49a6-d63a-156e5f5a21d8"
      },
      "execution_count": null,
      "outputs": [
        {
          "output_type": "display_data",
          "data": {
            "text/plain": [
              "<Figure size 1200x600 with 2 Axes>"
            ],
            "image/png": "[encoded data removed]"
          },
          "metadata": {}
        }
      ]
    },
    {
      "cell_type": "markdown",
      "source": [
        "####Observations\n",
        "* The distribution of delivery times is slightly left-skewed, which tels us the slight majority of deliveries use less time overall\n",
        "* The mean delivery time is approximately 24 minutes, slightly less than the average time it takes to prepare food; the median delivery time is 25 minutes\n",
        "\n"
      ],
      "metadata": {
        "id": "AurvGVTBikIg"
      }
    },
    {
      "cell_type": "markdown",
      "source": [
        "####Cost of Orders"
      ],
      "metadata": {
        "id": "UOQvbBdWuMEf"
      }
    },
    {
      "cell_type": "code",
      "source": [
        "# explore the range of cost for the orders placed\n",
        "boxplot_histogram(df.cost_of_the_order)"
      ],
      "metadata": {
        "colab": {
          "base_uri": "https://localhost:8080/",
          "height": 542
        },
        "id": "9Hjpl8w3iCP7",
        "outputId": "3ab3c74f-6da3-49c0-ea71-5bbabdd656d3"
      },
      "execution_count": null,
      "outputs": [
        {
          "output_type": "display_data",
          "data": {
            "text/plain": [
              "<Figure size 1200x600 with 2 Axes>"
            ],
            "image/png": "[encoded data removed]"
          },
          "metadata": {}
        }
      ]
    },
    {
      "cell_type": "markdown",
      "source": [
        "####Observations\n",
        "* The distribution of the cost of each order is right-skewed\n",
        "* Order volumes are significantly higher for orders between $12 - 14\n",
        "\n",
        "* The median cost is just over $14\n",
        "\n",
        "* The average cost per order is $16.50"
      ],
      "metadata": {
        "id": "FyfQqkDhg_An"
      }
    },
    {
      "cell_type": "markdown",
      "source": [
        "####Ratings"
      ],
      "metadata": {
        "id": "NTfszMH9uQJB"
      }
    },
    {
      "cell_type": "code",
      "source": [
        "# explore the ratings\n",
        "boxplot_histogram(df.rating)"
      ],
      "metadata": {
        "colab": {
          "base_uri": "https://localhost:8080/",
          "height": 542
        },
        "id": "pIbyyo6CirTC",
        "outputId": "b65164c3-8ec8-4c8a-f9e7-cc25a8b4190c"
      },
      "execution_count": null,
      "outputs": [
        {
          "output_type": "display_data",
          "data": {
            "text/plain": [
              "<Figure size 1200x600 with 2 Axes>"
            ],
            "image/png": "[encoded data removed]"
          },
          "metadata": {}
        }
      ]
    },
    {
      "cell_type": "markdown",
      "source": [
        "####Observations\n",
        "* The distribution of ratings is highly positively skewed and show that there are no ratings below 3, which may account for the missing values\n",
        "* The minimum rating received is 3 and the maximum rating is 5\n",
        "* The average rating is over 4.25, less than 4.5\n"
      ],
      "metadata": {
        "id": "stoJYDW8i2JJ"
      }
    },
    {
      "cell_type": "markdown",
      "source": [
        "**Exploring Categorical Data**"
      ],
      "metadata": {
        "id": "pZaQz7M9hmCe"
      }
    },
    {
      "cell_type": "code",
      "source": [
        "# function to display categorical variables: day of the week, cuisine type\n",
        "def vis_categ(data, column):\n",
        "    # column length for use to depict percentage calculation\n",
        "    total = len(data[column])\n",
        "    plt.figure(figsize = (12, 6))\n",
        "\n",
        "    # convert the column to a categorical data type\n",
        "    data[column] = data[column].astype('category')\n",
        "\n",
        "    # create countpolot\n",
        "    ax = sns.countplot(data = df, x = column, hue = column, order = data[column].value_counts().index, palette = 'cividis_r')\n",
        "\n",
        "    # show percentages in visualization\n",
        "    for p in ax.patches:\n",
        "        percentage = '{:.1f}%'.format(100 * p.get_height() / total) # percentage of each class\n",
        "        x = p.get_x() + p.get_width() / 2 - 0.05                    # width of the plot\n",
        "        y = p.get_y() + p.get_height()                              # height of the plot\n",
        "        ax.annotate(percentage, (x, y), size = 12)                  # annotate the percentage\n",
        "\n",
        "    # customize x-axis ticks to 45 degrees\n",
        "    ax.set_xticks(range(len(data[column].value_counts().index)))\n",
        "    ax.set_xticklabels(data[column].value_counts().index, rotation=45)\n",
        "\n",
        "    # remove top and outer border of plot\n",
        "    sns.despine();\n",
        "    plt.show()\n"
      ],
      "metadata": {
        "id": "XY8dC2Gji4kO"
      },
      "execution_count": null,
      "outputs": []
    },
    {
      "cell_type": "markdown",
      "source": [
        "####Cuisine Types"
      ],
      "metadata": {
        "id": "mM5ZrypJufxy"
      }
    },
    {
      "cell_type": "code",
      "source": [
        "# most popular cuisines, percentage range of available cuisine\n",
        "vis_categ(df, 'cuisine_type')"
      ],
      "metadata": {
        "colab": {
          "base_uri": "https://localhost:8080/",
          "height": 611
        },
        "id": "F70S0j6u5caS",
        "outputId": "887e4770-c1cc-46ef-9f33-e566b958f6b8"
      },
      "execution_count": null,
      "outputs": [
        {
          "output_type": "display_data",
          "data": {
            "text/plain": [
              "<Figure size 1200x600 with 1 Axes>"
            ],
            "image/png": "[encoded data removed]"
          },
          "metadata": {}
        }
      ]
    },
    {
      "cell_type": "markdown",
      "source": [
        "**Observations**\n",
        "* There are 14 different types of cuisine represented in the data\n",
        "* The most popular cuisine types are: American, Japanese, Italian and Chinese (in that order)\n",
        "* The top four cuisine types comprise 82.6% of all orders placed"
      ],
      "metadata": {
        "id": "YwXdHNrIh5TL"
      }
    },
    {
      "cell_type": "markdown",
      "source": [
        "####Delivery: Weekday or Weekend"
      ],
      "metadata": {
        "id": "uIPshOM0ujtg"
      }
    },
    {
      "cell_type": "code",
      "source": [
        "# relationship between orders placed on weekday or weekend\n",
        "\n",
        "vis_categ(df, 'day_of_the_week')\n",
        "\n"
      ],
      "metadata": {
        "colab": {
          "base_uri": "https://localhost:8080/",
          "height": 583
        },
        "id": "Fp3L86DI3h3d",
        "outputId": "d250bb26-ef9e-427c-dcba-a3a5d1cbecfd"
      },
      "execution_count": null,
      "outputs": [
        {
          "output_type": "display_data",
          "data": {
            "text/plain": [
              "<Figure size 1200x600 with 1 Axes>"
            ],
            "image/png": "[encoded data removed]"
          },
          "metadata": {}
        }
      ]
    },
    {
      "cell_type": "code",
      "source": [
        "# how many restaurants participate\n",
        "rest_count = df['restaurant_name'].nunique()\n",
        "print(rest_count, \"restaurants are represented in this dataset.\")"
      ],
      "metadata": {
        "colab": {
          "base_uri": "https://localhost:8080/"
        },
        "id": "3NxYf00keXKd",
        "outputId": "354fffb6-1343-4163-e72f-5e908083bb7f"
      },
      "execution_count": null,
      "outputs": [
        {
          "output_type": "stream",
          "name": "stdout",
          "text": [
            "178 restaurants are represented in this dataset.\n"
          ]
        }
      ]
    },
    {
      "cell_type": "markdown",
      "source": [
        "####Observations\n",
        "\n"
      ],
      "metadata": {
        "id": "UkYNSmW65aeP"
      }
    },
    {
      "cell_type": "markdown",
      "source": [
        "* We can see that weekend deliveries are significantly higher than weekday deliveries"
      ],
      "metadata": {
        "id": "8VBtCyEpWkF8"
      }
    },
    {
      "cell_type": "markdown",
      "metadata": {
        "id": "K9CqA5H_JY_U"
      },
      "source": [
        "### What are the top 5 restaurants in terms of the number of orders received?"
      ]
    },
    {
      "cell_type": "code",
      "execution_count": null,
      "metadata": {
        "id": "PaJZ3wlOJY_U",
        "colab": {
          "base_uri": "https://localhost:8080/"
        },
        "outputId": "b18b9dd7-d97b-4041-c3fe-2d95449c70a5"
      },
      "outputs": [
        {
          "output_type": "execute_result",
          "data": {
            "text/plain": [
              "restaurant_name\n",
              "Shake Shack                  219\n",
              "The Meatball Shop            132\n",
              "Blue Ribbon Sushi            119\n",
              "Blue Ribbon Fried Chicken     96\n",
              "Parm                          68\n",
              "                            ... \n",
              "Sushi Choshi                   1\n",
              "Dos Caminos Soho               1\n",
              "La Follia                      1\n",
              "Philippe Chow                  1\n",
              "'wichcraft                     1\n",
              "Name: count, Length: 178, dtype: int64"
            ]
          },
          "metadata": {},
          "execution_count": 25
        }
      ],
      "source": [
        "df['restaurant_name'].value_counts()"
      ]
    },
    {
      "cell_type": "markdown",
      "metadata": {
        "id": "tnjhWgUfJY_U"
      },
      "source": [
        "#### Observations\n",
        "* The top five restaurants correlate well with the most popular (top three) cuisines in the dataset"
      ]
    },
    {
      "cell_type": "markdown",
      "metadata": {
        "id": "gWPMqGq0JY_U"
      },
      "source": [
        "### What is the most popular cuisine on weekends?"
      ]
    },
    {
      "cell_type": "code",
      "execution_count": null,
      "metadata": {
        "id": "c-Xnus3VJY_U",
        "colab": {
          "base_uri": "https://localhost:8080/"
        },
        "outputId": "4c29603f-5da6-4bb7-c734-7013e9724954"
      },
      "outputs": [
        {
          "output_type": "stream",
          "name": "stdout",
          "text": [
            "The most popular cuisine on weekends is:\n",
            " cuisine_type\n",
            "American          415\n",
            "Japanese          335\n",
            "Italian           207\n",
            "Chinese           163\n",
            "Mexican            53\n",
            "Indian             49\n",
            "Mediterranean      32\n",
            "Middle Eastern     32\n",
            "Thai               15\n",
            "French             13\n",
            "Korean             11\n",
            "Southern           11\n",
            "Spanish            11\n",
            "Vietnamese          4\n",
            "Name: count, dtype: int64\n"
          ]
        }
      ],
      "source": [
        "weekend = df[df['day_of_the_week'] == 'Weekend']\n",
        "print(f\"The most popular cuisine on weekends is:\\n {weekend['cuisine_type'].value_counts()}\")"
      ]
    },
    {
      "cell_type": "markdown",
      "metadata": {
        "id": "bpQ270TUJY_U"
      },
      "source": [
        "#### Observations\n",
        "* The most popular cuisine orders on weekends correlate with the most popular cuisines throughout the dataset\n"
      ]
    },
    {
      "cell_type": "markdown",
      "metadata": {
        "id": "88xgTqkxJY_U"
      },
      "source": [
        "### What percentage of the orders cost more than 20 dollars?"
      ]
    },
    {
      "cell_type": "code",
      "execution_count": null,
      "metadata": {
        "id": "OTpHyTdzJY_U",
        "colab": {
          "base_uri": "https://localhost:8080/"
        },
        "outputId": "910588db-9a90-43aa-a847-55adf3755358"
      },
      "outputs": [
        {
          "output_type": "stream",
          "name": "stdout",
          "text": [
            "29.24% of orders cost more than 20 dollars.\n",
            "The number of total orders that cost above 20 dollars is 555 out of 1898 orders in the dataset.\n"
          ]
        }
      ],
      "source": [
        "orders_over_20 = df[df['cost_of_the_order'] > 20]\n",
        "percent_over_20 = len(orders_over_20) / len(df) * 100\n",
        "print(f\"{percent_over_20:.2f}% of orders cost more than 20 dollars.\")\n",
        "print(f'The number of total orders that cost above 20 dollars is {orders_over_20.shape[0]} out of 1898 orders in the dataset.')\n"
      ]
    },
    {
      "cell_type": "markdown",
      "metadata": {
        "id": "77KNAC5zJY_U"
      },
      "source": [
        "#### Observations\n",
        "* This calculation corresponds well to the cost-per-order histogram"
      ]
    },
    {
      "cell_type": "markdown",
      "metadata": {
        "id": "HFyHn7hsJY_V"
      },
      "source": [
        "### What is the mean order delivery time?"
      ]
    },
    {
      "cell_type": "code",
      "execution_count": null,
      "metadata": {
        "id": "cyFL13hNJY_V",
        "colab": {
          "base_uri": "https://localhost:8080/"
        },
        "outputId": "77765c73-18f5-4844-8556-060ace6ae0a6"
      },
      "outputs": [
        {
          "output_type": "stream",
          "name": "stdout",
          "text": [
            "The mean order delivery time is 24.16 minutes.\n"
          ]
        }
      ],
      "source": [
        "print(f'The mean order delivery time is {df[\"delivery_time\"].mean():.2f} minutes.')"
      ]
    },
    {
      "cell_type": "markdown",
      "metadata": {
        "id": "F35SRV-HJY_V"
      },
      "source": [
        "#### Observations\n",
        "* This calculation corresponds well to the order delivery time histogram"
      ]
    },
    {
      "cell_type": "markdown",
      "metadata": {
        "id": "48IjaOuDJY_V"
      },
      "source": [
        "### The company has decided to give 20% discount vouchers to the top 3 most frequent customers. Identifying the IDs of these customers and the number of orders they placed."
      ]
    },
    {
      "cell_type": "code",
      "execution_count": null,
      "metadata": {
        "id": "Hz8-DE4Zge0j",
        "colab": {
          "base_uri": "https://localhost:8080/"
        },
        "outputId": "11d509b9-b51e-4f27-d2a3-a4f8153f9bed"
      },
      "outputs": [
        {
          "output_type": "stream",
          "name": "stdout",
          "text": [
            "The top three most frequent customers and the number of orders they placed is:\n",
            "customer_id\n",
            "52832    13\n",
            "47440    10\n",
            "83287     9\n",
            "Name: count, dtype: int64.\n"
          ]
        }
      ],
      "source": [
        "print(f\"The top three most frequent customers and the number of orders they placed is:\\n{df['customer_id'].value_counts().head(3)}.\")\n"
      ]
    },
    {
      "cell_type": "markdown",
      "metadata": {
        "id": "AfIc2jPaJY_V"
      },
      "source": [
        "###**Multivariate Analysis**\n",
        "Exploring relationships between important variables in the dataset"
      ]
    },
    {
      "cell_type": "markdown",
      "source": [
        "####Heatmap to determine correlation among variables"
      ],
      "metadata": {
        "id": "wuz6KNjOux0b"
      }
    },
    {
      "cell_type": "code",
      "execution_count": null,
      "metadata": {
        "id": "3qt4MCNTJY_V",
        "colab": {
          "base_uri": "https://localhost:8080/",
          "height": 613
        },
        "outputId": "dd7c8e75-9b21-4b47-ac81-a374137aa9ef"
      },
      "outputs": [
        {
          "output_type": "execute_result",
          "data": {
            "text/plain": [
              "Text(0.5, 1.0, 'Correlation among Variables')"
            ]
          },
          "metadata": {},
          "execution_count": 30
        },
        {
          "output_type": "display_data",
          "data": {
            "text/plain": [
              "<Figure size 640x480 with 2 Axes>"
            ],
            "image/png": "[encoded data removed]"
          },
          "metadata": {}
        }
      ],
      "source": [
        "# plot the heatmap amongst variables\n",
        "var_list = ['cost_of_the_order', 'food_preparation_time', 'delivery_time', 'rating']\n",
        "sns.heatmap(df[var_list].corr(), annot = True, fmt = '.2f', cbar=True, cmap = 'cividis')\n",
        "plt.title(\"Correlation among Variables\")"
      ]
    },
    {
      "cell_type": "markdown",
      "source": [
        "####Observations\n",
        "\n",
        "* Although we can see that the cost of the order is most closely aligned with the food preparation time, the correlations among the variables seem loosely related given that the closer to 1 or -1, the higher the correlation\n",
        "* We could not include any of the categorical values like cuisine type in the heatmap given that they do not have numeric values\n",
        "* However, there are valid comparisons to be made that may be of interest to the business to explore potential efficiency trends. Operationally, they include:\n",
        "\n",
        "    * delivery times: weekday v. weekend\n",
        "    * cuisine types and food prep time\n",
        "    * cuisine types and cost of the order\n",
        "    * cuisine types and revenue distribution\n",
        "    * restaurants and revenue distribution\n",
        "    * customers and revenue distribution\n",
        "\n",
        "*   Although approximately 38% of the rating values are missing, we will still use this dataset to explore trends to discover customer feedback tendencies. As such, we will consider:\n",
        "\n",
        "    *   the relationship between cuisine type and presence of ratings\n",
        "    *   the relationship between rating values and the cost of the order\n",
        "    *   the relationship between rating values and delivery time v. rating values and total order time (food prep and delivery)"
      ],
      "metadata": {
        "id": "3OAn9d1SG4EQ"
      }
    },
    {
      "cell_type": "markdown",
      "source": [
        "####Delivery Times: Weekday v. Weekend"
      ],
      "metadata": {
        "id": "5cIVFmLw5E8G"
      }
    },
    {
      "cell_type": "code",
      "source": [
        "# relationship between delivery time on weekends v. weekdays\n",
        "mean = df[\"delivery_time\"].mean()\n",
        "plt.figure(figsize=(12,6))\n",
        "sns.barplot(x = \"day_of_the_week\", y = \"delivery_time\", hue = \"day_of_the_week\", data = df, palette = \"cividis\")\n",
        "plt.axhline(y=mean, color='k', linestyle='--', label=f'Mean Delivery Time: {mean:.2f}')\n",
        "plt.xlabel(\"Weekday or Weekend Delivery Times\")\n",
        "plt.ylabel(\"Delivery Time\")\n",
        "plt.xticks(rotation = 45)\n",
        "sns.despine()\n",
        "plt.show()"
      ],
      "metadata": {
        "colab": {
          "base_uri": "https://localhost:8080/",
          "height": 588
        },
        "id": "iTuq4gW0uzpj",
        "outputId": "dbb2b0d5-aa15-427f-d8af-4b459845d509"
      },
      "execution_count": null,
      "outputs": [
        {
          "output_type": "display_data",
          "data": {
            "text/plain": [
              "<Figure size 1200x600 with 1 Axes>"
            ],
            "image/png": "[encoded data removed]"
          },
          "metadata": {}
        }
      ]
    },
    {
      "cell_type": "markdown",
      "source": [
        "####Observations\n",
        "* The weekend delivery times fall below the average time for order delivery and are quicker than the weekday delivery times, potentially due to traffic congestion?"
      ],
      "metadata": {
        "id": "Yj94SdCq5Wjz"
      }
    },
    {
      "cell_type": "markdown",
      "source": [
        "####Relationship between cuisine and food preparation time"
      ],
      "metadata": {
        "id": "1XB2eKT8u3Ox"
      }
    },
    {
      "cell_type": "code",
      "source": [
        "# relationship between cuisine and food prep time\n",
        "plt.figure(figsize=(15,7))\n",
        "sns.boxplot(x=\"cuisine_type\", y=\"food_preparation_time\", hue=\"cuisine_type\", data=df, palette =\"cividis\", legend=False)\n",
        "plt.xlabel(\"Cuisine Type\")\n",
        "plt.ylabel(\"Time to Prepare\")\n",
        "plt.xticks(rotation = 45)\n",
        "sns.despine()\n",
        "plt.show()"
      ],
      "metadata": {
        "colab": {
          "base_uri": "https://localhost:8080/",
          "height": 688
        },
        "id": "JiHFJJL_G6eb",
        "outputId": "7fedc8db-bb0a-4c13-b41e-12a5354865ad"
      },
      "execution_count": null,
      "outputs": [
        {
          "output_type": "display_data",
          "data": {
            "text/plain": [
              "<Figure size 1500x700 with 1 Axes>"
            ],
            "image/png": "[encoded data removed]"
          },
          "metadata": {}
        }
      ]
    },
    {
      "cell_type": "markdown",
      "source": [
        "####Observations\n",
        "* Although the range of time to prepare food falls between 22 and 33 minutes, the average time for all cuisines to be prepared is between 25 and 28 minutes.\n",
        "* We can see that Southern and French cuisine are right-skewed, which tells us that although the average time to prep these orders is not particularly high compared to other cuisines, many of the orders of these two types required more time, especially the Southern cuisine orders.\n",
        "* We do see two Korean outlier values. After inspection of the dataset excel file, these orders were prepared by the same restaurant who typically have higher food preparation times when compared to the other restaurants. Because they are two of 1898 orders and the mean food preparation time for Korean food is lower than the other cuisines, the outliers will not be imputed as they are most likely not statistically significant."
      ],
      "metadata": {
        "id": "xebkjiaDXneu"
      }
    },
    {
      "cell_type": "markdown",
      "source": [
        "####Relationship between cuisine type and cost of each order"
      ],
      "metadata": {
        "id": "Oogm0vYUu9DU"
      }
    },
    {
      "cell_type": "code",
      "source": [
        "# relationship between cuisine and cost of each order\n",
        "plt.figure(figsize=(15,7))\n",
        "sns.boxplot(x = \"cuisine_type\", y = \"cost_of_the_order\", hue = \"cuisine_type\", data = df, palette =\"cividis_r\")\n",
        "plt.xlabel(\"Cuisine Type\")\n",
        "plt.ylabel(\"Cost of the Order\")\n",
        "plt.xticks(rotation = 45)\n",
        "sns.despine()\n",
        "plt.show()\n"
      ],
      "metadata": {
        "id": "u6GVBUOCJLJ5",
        "colab": {
          "base_uri": "https://localhost:8080/",
          "height": 688
        },
        "outputId": "9aa8b78f-7796-4bc8-f4e5-db24ece8c05e"
      },
      "execution_count": null,
      "outputs": [
        {
          "output_type": "display_data",
          "data": {
            "text/plain": [
              "<Figure size 1500x700 with 1 Axes>"
            ],
            "image/png": "[encoded data removed]"
          },
          "metadata": {}
        }
      ]
    },
    {
      "cell_type": "markdown",
      "source": [
        "####Observations\n",
        "* There are a few cost outliers found in the Korean orders, the Mediterranean orders, and the Vietnamese orders\n"
      ],
      "metadata": {
        "id": "a4Abmwwp76i_"
      }
    },
    {
      "cell_type": "code",
      "source": [
        "#compare outlier values to statistical summary of all order costs\n",
        "df.describe()[['cost_of_the_order']]"
      ],
      "metadata": {
        "colab": {
          "base_uri": "https://localhost:8080/",
          "height": 300
        },
        "id": "FNKvbqbLw9GI",
        "outputId": "aa5c3c9d-82df-46b7-ea2b-d4a5bc3637be"
      },
      "execution_count": null,
      "outputs": [
        {
          "output_type": "execute_result",
          "data": {
            "text/plain": [
              "       cost_of_the_order\n",
              "count        1898.000000\n",
              "mean           16.498851\n",
              "std             7.483812\n",
              "min             4.470000\n",
              "25%            12.080000\n",
              "50%            14.140000\n",
              "75%            22.297500\n",
              "max            35.410000"
            ],
            "text/html": [
              "\n",
              "  <div id=\"df-980ef0a5-fb3a-4490-8491-5c9b0e133bfc\" class=\"colab-df-container\">\n",
              "    <div>\n",
              "<style scoped>\n",
              "    .dataframe tbody tr th:only-of-type {\n",
              "        vertical-align: middle;\n",
              "    }\n",
              "\n",
              "    .dataframe tbody tr th {\n",
              "        vertical-align: top;\n",
              "    }\n",
              "\n",
              "    .dataframe thead th {\n",
              "        text-align: right;\n",
              "    }\n",
              "</style>\n",
              "<table border=\"1\" class=\"dataframe\">\n",
              "  <thead>\n",
              "    <tr style=\"text-align: right;\">\n",
              "      <th></th>\n",
              "      <th>cost_of_the_order</th>\n",
              "    </tr>\n",
              "  </thead>\n",
              "  <tbody>\n",
              "    <tr>\n",
              "      <th>count</th>\n",
              "      <td>1898.000000</td>\n",
              "    </tr>\n",
              "    <tr>\n",
              "      <th>mean</th>\n",
              "      <td>16.498851</td>\n",
              "    </tr>\n",
              "    <tr>\n",
              "      <th>std</th>\n",
              "      <td>7.483812</td>\n",
              "    </tr>\n",
              "    <tr>\n",
              "      <th>min</th>\n",
              "      <td>4.470000</td>\n",
              "    </tr>\n",
              "    <tr>\n",
              "      <th>25%</th>\n",
              "      <td>12.080000</td>\n",
              "    </tr>\n",
              "    <tr>\n",
              "      <th>50%</th>\n",
              "      <td>14.140000</td>\n",
              "    </tr>\n",
              "    <tr>\n",
              "      <th>75%</th>\n",
              "      <td>22.297500</td>\n",
              "    </tr>\n",
              "    <tr>\n",
              "      <th>max</th>\n",
              "      <td>35.410000</td>\n",
              "    </tr>\n",
              "  </tbody>\n",
              "</table>\n",
              "</div>\n",
              "    <div class=\"colab-df-buttons\">\n",
              "\n",
              "  <div class=\"colab-df-container\">\n",
              "    <button class=\"colab-df-convert\" onclick=\"convertToInteractive('df-980ef0a5-fb3a-4490-8491-5c9b0e133bfc')\"\n",
              "            title=\"Convert this dataframe to an interactive table.\"\n",
              "            style=\"display:none;\">\n",
              "\n",
              "  <svg xmlns=\"http://www.w3.org/2000/svg\" height=\"24px\" viewBox=\"0 -960 960 960\">\n",
              "    <path d=\"M120-120v-720h720v720H120Zm60-500h600v-160H180v160Zm220 220h160v-160H400v160Zm0 220h160v-160H400v160ZM180-400h160v-160H180v160Zm440 0h160v-160H620v160ZM180-180h160v-160H180v160Zm440 0h160v-160H620v160Z\"/>\n",
              "  </svg>\n",
              "    </button>\n",
              "\n",
              "  <style>\n",
              "    .colab-df-container {\n",
              "      display:flex;\n",
              "      gap: 12px;\n",
              "    }\n",
              "\n",
              "    .colab-df-convert {\n",
              "      background-color: #E8F0FE;\n",
              "      border: none;\n",
              "      border-radius: 50%;\n",
              "      cursor: pointer;\n",
              "      display: none;\n",
              "      fill: #1967D2;\n",
              "      height: 32px;\n",
              "      padding: 0 0 0 0;\n",
              "      width: 32px;\n",
              "    }\n",
              "\n",
              "    .colab-df-convert:hover {\n",
              "      background-color: #E2EBFA;\n",
              "      box-shadow: 0px 1px 2px rgba(60, 64, 67, 0.3), 0px 1px 3px 1px rgba(60, 64, 67, 0.15);\n",
              "      fill: #174EA6;\n",
              "    }\n",
              "\n",
              "    .colab-df-buttons div {\n",
              "      margin-bottom: 4px;\n",
              "    }\n",
              "\n",
              "    [theme=dark] .colab-df-convert {\n",
              "      background-color: #3B4455;\n",
              "      fill: #D2E3FC;\n",
              "    }\n",
              "\n",
              "    [theme=dark] .colab-df-convert:hover {\n",
              "      background-color: #434B5C;\n",
              "      box-shadow: 0px 1px 3px 1px rgba(0, 0, 0, 0.15);\n",
              "      filter: drop-shadow(0px 1px 2px rgba(0, 0, 0, 0.3));\n",
              "      fill: #FFFFFF;\n",
              "    }\n",
              "  </style>\n",
              "\n",
              "    <script>\n",
              "      const buttonEl =\n",
              "        document.querySelector('#df-980ef0a5-fb3a-4490-8491-5c9b0e133bfc button.colab-df-convert');\n",
              "      buttonEl.style.display =\n",
              "        google.colab.kernel.accessAllowed ? 'block' : 'none';\n",
              "\n",
              "      async function convertToInteractive(key) {\n",
              "        const element = document.querySelector('#df-980ef0a5-fb3a-4490-8491-5c9b0e133bfc');\n",
              "        const dataTable =\n",
              "          await google.colab.kernel.invokeFunction('convertToInteractive',\n",
              "                                                    [key], {});\n",
              "        if (!dataTable) return;\n",
              "\n",
              "        const docLinkHtml = 'Like what you see? Visit the ' +\n",
              "          '<a target=\"_blank\" href=https://colab.research.google.com/notebooks/data_table.ipynb>data table notebook</a>'\n",
              "          + ' to learn more about interactive tables.';\n",
              "        element.innerHTML = '';\n",
              "        dataTable['output_type'] = 'display_data';\n",
              "        await google.colab.output.renderOutput(dataTable, element);\n",
              "        const docLink = document.createElement('div');\n",
              "        docLink.innerHTML = docLinkHtml;\n",
              "        element.appendChild(docLink);\n",
              "      }\n",
              "    </script>\n",
              "  </div>\n",
              "\n",
              "\n",
              "<div id=\"df-3012e5d3-66aa-4c50-aea3-69de12b2a415\">\n",
              "  <button class=\"colab-df-quickchart\" onclick=\"quickchart('df-3012e5d3-66aa-4c50-aea3-69de12b2a415')\"\n",
              "            title=\"Suggest charts\"\n",
              "            style=\"display:none;\">\n",
              "\n",
              "<svg xmlns=\"http://www.w3.org/2000/svg\" height=\"24px\"viewBox=\"0 0 24 24\"\n",
              "     width=\"24px\">\n",
              "    <g>\n",
              "        <path d=\"M19 3H5c-1.1 0-2 .9-2 2v14c0 1.1.9 2 2 2h14c1.1 0 2-.9 2-2V5c0-1.1-.9-2-2-2zM9 17H7v-7h2v7zm4 0h-2V7h2v10zm4 0h-2v-4h2v4z\"/>\n",
              "    </g>\n",
              "</svg>\n",
              "  </button>\n",
              "\n",
              "<style>\n",
              "  .colab-df-quickchart {\n",
              "      --bg-color: #E8F0FE;\n",
              "      --fill-color: #1967D2;\n",
              "      --hover-bg-color: #E2EBFA;\n",
              "      --hover-fill-color: #174EA6;\n",
              "      --disabled-fill-color: #AAA;\n",
              "      --disabled-bg-color: #DDD;\n",
              "  }\n",
              "\n",
              "  [theme=dark] .colab-df-quickchart {\n",
              "      --bg-color: #3B4455;\n",
              "      --fill-color: #D2E3FC;\n",
              "      --hover-bg-color: #434B5C;\n",
              "      --hover-fill-color: #FFFFFF;\n",
              "      --disabled-bg-color: #3B4455;\n",
              "      --disabled-fill-color: #666;\n",
              "  }\n",
              "\n",
              "  .colab-df-quickchart {\n",
              "    background-color: var(--bg-color);\n",
              "    border: none;\n",
              "    border-radius: 50%;\n",
              "    cursor: pointer;\n",
              "    display: none;\n",
              "    fill: var(--fill-color);\n",
              "    height: 32px;\n",
              "    padding: 0;\n",
              "    width: 32px;\n",
              "  }\n",
              "\n",
              "  .colab-df-quickchart:hover {\n",
              "    background-color: var(--hover-bg-color);\n",
              "    box-shadow: 0 1px 2px rgba(60, 64, 67, 0.3), 0 1px 3px 1px rgba(60, 64, 67, 0.15);\n",
              "    fill: var(--button-hover-fill-color);\n",
              "  }\n",
              "\n",
              "  .colab-df-quickchart-complete:disabled,\n",
              "  .colab-df-quickchart-complete:disabled:hover {\n",
              "    background-color: var(--disabled-bg-color);\n",
              "    fill: var(--disabled-fill-color);\n",
              "    box-shadow: none;\n",
              "  }\n",
              "\n",
              "  .colab-df-spinner {\n",
              "    border: 2px solid var(--fill-color);\n",
              "    border-color: transparent;\n",
              "    border-bottom-color: var(--fill-color);\n",
              "    animation:\n",
              "      spin 1s steps(1) infinite;\n",
              "  }\n",
              "\n",
              "  @keyframes spin {\n",
              "    0% {\n",
              "      border-color: transparent;\n",
              "      border-bottom-color: var(--fill-color);\n",
              "      border-left-color: var(--fill-color);\n",
              "    }\n",
              "    20% {\n",
              "      border-color: transparent;\n",
              "      border-left-color: var(--fill-color);\n",
              "      border-top-color: var(--fill-color);\n",
              "    }\n",
              "    30% {\n",
              "      border-color: transparent;\n",
              "      border-left-color: var(--fill-color);\n",
              "      border-top-color: var(--fill-color);\n",
              "      border-right-color: var(--fill-color);\n",
              "    }\n",
              "    40% {\n",
              "      border-color: transparent;\n",
              "      border-right-color: var(--fill-color);\n",
              "      border-top-color: var(--fill-color);\n",
              "    }\n",
              "    60% {\n",
              "      border-color: transparent;\n",
              "      border-right-color: var(--fill-color);\n",
              "    }\n",
              "    80% {\n",
              "      border-color: transparent;\n",
              "      border-right-color: var(--fill-color);\n",
              "      border-bottom-color: var(--fill-color);\n",
              "    }\n",
              "    90% {\n",
              "      border-color: transparent;\n",
              "      border-bottom-color: var(--fill-color);\n",
              "    }\n",
              "  }\n",
              "</style>\n",
              "\n",
              "  <script>\n",
              "    async function quickchart(key) {\n",
              "      const quickchartButtonEl =\n",
              "        document.querySelector('#' + key + ' button');\n",
              "      quickchartButtonEl.disabled = true;  // To prevent multiple clicks.\n",
              "      quickchartButtonEl.classList.add('colab-df-spinner');\n",
              "      try {\n",
              "        const charts = await google.colab.kernel.invokeFunction(\n",
              "            'suggestCharts', [key], {});\n",
              "      } catch (error) {\n",
              "        console.error('Error during call to suggestCharts:', error);\n",
              "      }\n",
              "      quickchartButtonEl.classList.remove('colab-df-spinner');\n",
              "      quickchartButtonEl.classList.add('colab-df-quickchart-complete');\n",
              "    }\n",
              "    (() => {\n",
              "      let quickchartButtonEl =\n",
              "        document.querySelector('#df-3012e5d3-66aa-4c50-aea3-69de12b2a415 button');\n",
              "      quickchartButtonEl.style.display =\n",
              "        google.colab.kernel.accessAllowed ? 'block' : 'none';\n",
              "    })();\n",
              "  </script>\n",
              "</div>\n",
              "    </div>\n",
              "  </div>\n"
            ],
            "application/vnd.google.colaboratory.intrinsic+json": {
              "type": "dataframe",
              "summary": "{\n  \"name\": \"df\",\n  \"rows\": 8,\n  \"fields\": [\n    {\n      \"column\": \"cost_of_the_order\",\n      \"properties\": {\n        \"dtype\": \"number\",\n        \"std\": 665.43708115231,\n        \"min\": 4.47,\n        \"max\": 1898.0,\n        \"num_unique_values\": 8,\n        \"samples\": [\n          16.498851422550054,\n          14.14,\n          1898.0\n        ],\n        \"semantic_type\": \"\",\n        \"description\": \"\"\n      }\n    }\n  ]\n}"
            }
          },
          "metadata": {},
          "execution_count": 34
        }
      ]
    },
    {
      "cell_type": "markdown",
      "source": [
        "I####Observations\n",
        "\n",
        "* We can see that the average order is 16.50, with a standard deviation of 7.48 and that the outliers fall significantly below or above one standard deviation and the mean.\n",
        "* We know the mean is sensitive to outliers; however, the relatively few outliers (10/1898) should not affect the mean significantly.\n",
        "* However, further analysis should be explored to, in the very least, check for errors.\n",
        "* After visual inspection of the dataset, the more expensive orders were typically ordered on weekends which tell us the orders were probably larger orders and the values were not entered in error. Given the lower mean value or average cost of orders of these three cuisines, the lower cost outliers are not considered statistically significant.\n",
        "* In addition, given the few number of values that are outliers, 7/1898 as high outliers and 3/1898 as low outliers, I will not impute these outliers as they should not have a significant statistical impact in our analysis."
      ],
      "metadata": {
        "id": "1YXz-Z938LSw"
      }
    },
    {
      "cell_type": "markdown",
      "source": [
        "**Revenue Analyses**"
      ],
      "metadata": {
        "id": "zJQ-LLDj_xSj"
      }
    },
    {
      "cell_type": "markdown",
      "source": [
        "####Relationship between cuisine type and order revenue"
      ],
      "metadata": {
        "id": "ZrEKTYssvB0y"
      }
    },
    {
      "cell_type": "code",
      "source": [
        "# relationship between cuisine type and order revenue\n",
        "revenue_by_cuisine = df.groupby(['cuisine_type'])['cost_of_the_order'].sum().sort_values(ascending = False).head(20)\n",
        "\n",
        "# format as a table for presentation purposes\n",
        "# convert the result to a DataFrame and reset index\n",
        "cuisine_table = pd.DataFrame(revenue_by_cuisine).reset_index()\n",
        "\n",
        "# rename columns for clarity\n",
        "cuisine_table.columns = ['Cuisine Type', 'Total Revenue']\n",
        "\n",
        "# display the table with font properties, gridlines, and formatting\n",
        "display(cuisine_table.style.set_properties(**{'font-family': 'Arial'}).set_table_styles([\n",
        "    dict(selector=\"th\", props=[('font-size', '12pt'), ('font-family', 'Arial')]),\n",
        "    dict(selector=\"td\", props=[('font-size', '12pt'), ('font-family', 'Arial')]),\n",
        "    dict(selector=\"table\", props=[('border', '1px solid black')]),\n",
        "]).format({'Total Revenue': '{:.2f}'}))"
      ],
      "metadata": {
        "colab": {
          "base_uri": "https://localhost:8080/",
          "height": 555
        },
        "id": "AJPycJI2zjoV",
        "outputId": "e0586a64-bb91-422d-c744-fb5a63e3960a"
      },
      "execution_count": null,
      "outputs": [
        {
          "output_type": "display_data",
          "data": {
            "text/plain": [
              "<pandas.io.formats.style.Styler at 0x7cc0d6750f10>"
            ],
            "text/html": [
              "<style type=\"text/css\">\n",
              "#T_1687e th {\n",
              "  font-size: 12pt;\n",
              "  font-family: Arial;\n",
              "}\n",
              "#T_1687e td {\n",
              "  font-size: 12pt;\n",
              "  font-family: Arial;\n",
              "}\n",
              "#T_1687e table {\n",
              "  border: 1px solid black;\n",
              "}\n",
              "#T_1687e_row0_col0, #T_1687e_row0_col1, #T_1687e_row1_col0, #T_1687e_row1_col1, #T_1687e_row2_col0, #T_1687e_row2_col1, #T_1687e_row3_col0, #T_1687e_row3_col1, #T_1687e_row4_col0, #T_1687e_row4_col1, #T_1687e_row5_col0, #T_1687e_row5_col1, #T_1687e_row6_col0, #T_1687e_row6_col1, #T_1687e_row7_col0, #T_1687e_row7_col1, #T_1687e_row8_col0, #T_1687e_row8_col1, #T_1687e_row9_col0, #T_1687e_row9_col1, #T_1687e_row10_col0, #T_1687e_row10_col1, #T_1687e_row11_col0, #T_1687e_row11_col1, #T_1687e_row12_col0, #T_1687e_row12_col1, #T_1687e_row13_col0, #T_1687e_row13_col1 {\n",
              "  font-family: Arial;\n",
              "}\n",
              "</style>\n",
              "<table id=\"T_1687e\" class=\"dataframe\">\n",
              "  <thead>\n",
              "    <tr>\n",
              "      <th class=\"blank level0\" >&nbsp;</th>\n",
              "      <th id=\"T_1687e_level0_col0\" class=\"col_heading level0 col0\" >Cuisine Type</th>\n",
              "      <th id=\"T_1687e_level0_col1\" class=\"col_heading level0 col1\" >Total Revenue</th>\n",
              "    </tr>\n",
              "  </thead>\n",
              "  <tbody>\n",
              "    <tr>\n",
              "      <th id=\"T_1687e_level0_row0\" class=\"row_heading level0 row0\" >0</th>\n",
              "      <td id=\"T_1687e_row0_col0\" class=\"data row0 col0\" >American</td>\n",
              "      <td id=\"T_1687e_row0_col1\" class=\"data row0 col1\" >9530.78</td>\n",
              "    </tr>\n",
              "    <tr>\n",
              "      <th id=\"T_1687e_level0_row1\" class=\"row_heading level0 row1\" >1</th>\n",
              "      <td id=\"T_1687e_row1_col0\" class=\"data row1 col0\" >Japanese</td>\n",
              "      <td id=\"T_1687e_row1_col1\" class=\"data row1 col1\" >7663.13</td>\n",
              "    </tr>\n",
              "    <tr>\n",
              "      <th id=\"T_1687e_level0_row2\" class=\"row_heading level0 row2\" >2</th>\n",
              "      <td id=\"T_1687e_row2_col0\" class=\"data row2 col0\" >Italian</td>\n",
              "      <td id=\"T_1687e_row2_col1\" class=\"data row2 col1\" >4892.77</td>\n",
              "    </tr>\n",
              "    <tr>\n",
              "      <th id=\"T_1687e_level0_row3\" class=\"row_heading level0 row3\" >3</th>\n",
              "      <td id=\"T_1687e_row3_col0\" class=\"data row3 col0\" >Chinese</td>\n",
              "      <td id=\"T_1687e_row3_col1\" class=\"data row3 col1\" >3505.62</td>\n",
              "    </tr>\n",
              "    <tr>\n",
              "      <th id=\"T_1687e_level0_row4\" class=\"row_heading level0 row4\" >4</th>\n",
              "      <td id=\"T_1687e_row4_col0\" class=\"data row4 col0\" >Mexican</td>\n",
              "      <td id=\"T_1687e_row4_col1\" class=\"data row4 col1\" >1303.85</td>\n",
              "    </tr>\n",
              "    <tr>\n",
              "      <th id=\"T_1687e_level0_row5\" class=\"row_heading level0 row5\" >5</th>\n",
              "      <td id=\"T_1687e_row5_col0\" class=\"data row5 col0\" >Indian</td>\n",
              "      <td id=\"T_1687e_row5_col1\" class=\"data row5 col1\" >1235.14</td>\n",
              "    </tr>\n",
              "    <tr>\n",
              "      <th id=\"T_1687e_level0_row6\" class=\"row_heading level0 row6\" >6</th>\n",
              "      <td id=\"T_1687e_row6_col0\" class=\"data row6 col0\" >Middle Eastern</td>\n",
              "      <td id=\"T_1687e_row6_col1\" class=\"data row6 col1\" >922.21</td>\n",
              "    </tr>\n",
              "    <tr>\n",
              "      <th id=\"T_1687e_level0_row7\" class=\"row_heading level0 row7\" >7</th>\n",
              "      <td id=\"T_1687e_row7_col0\" class=\"data row7 col0\" >Mediterranean</td>\n",
              "      <td id=\"T_1687e_row7_col1\" class=\"data row7 col1\" >711.84</td>\n",
              "    </tr>\n",
              "    <tr>\n",
              "      <th id=\"T_1687e_level0_row8\" class=\"row_heading level0 row8\" >8</th>\n",
              "      <td id=\"T_1687e_row8_col0\" class=\"data row8 col0\" >Thai</td>\n",
              "      <td id=\"T_1687e_row8_col1\" class=\"data row8 col1\" >364.95</td>\n",
              "    </tr>\n",
              "    <tr>\n",
              "      <th id=\"T_1687e_level0_row9\" class=\"row_heading level0 row9\" >9</th>\n",
              "      <td id=\"T_1687e_row9_col0\" class=\"data row9 col0\" >French</td>\n",
              "      <td id=\"T_1687e_row9_col1\" class=\"data row9 col1\" >356.29</td>\n",
              "    </tr>\n",
              "    <tr>\n",
              "      <th id=\"T_1687e_level0_row10\" class=\"row_heading level0 row10\" >10</th>\n",
              "      <td id=\"T_1687e_row10_col0\" class=\"data row10 col0\" >Southern</td>\n",
              "      <td id=\"T_1687e_row10_col1\" class=\"data row10 col1\" >328.11</td>\n",
              "    </tr>\n",
              "    <tr>\n",
              "      <th id=\"T_1687e_level0_row11\" class=\"row_heading level0 row11\" >11</th>\n",
              "      <td id=\"T_1687e_row11_col0\" class=\"data row11 col0\" >Spanish</td>\n",
              "      <td id=\"T_1687e_row11_col1\" class=\"data row11 col1\" >227.93</td>\n",
              "    </tr>\n",
              "    <tr>\n",
              "      <th id=\"T_1687e_level0_row12\" class=\"row_heading level0 row12\" >12</th>\n",
              "      <td id=\"T_1687e_row12_col0\" class=\"data row12 col0\" >Korean</td>\n",
              "      <td id=\"T_1687e_row12_col1\" class=\"data row12 col1\" >182.02</td>\n",
              "    </tr>\n",
              "    <tr>\n",
              "      <th id=\"T_1687e_level0_row13\" class=\"row_heading level0 row13\" >13</th>\n",
              "      <td id=\"T_1687e_row13_col0\" class=\"data row13 col0\" >Vietnamese</td>\n",
              "      <td id=\"T_1687e_row13_col1\" class=\"data row13 col1\" >90.18</td>\n",
              "    </tr>\n",
              "  </tbody>\n",
              "</table>\n"
            ]
          },
          "metadata": {}
        }
      ]
    },
    {
      "cell_type": "markdown",
      "source": [
        "####Relationship between restaurants and revenue"
      ],
      "metadata": {
        "id": "eAZGO3PsvGGQ"
      }
    },
    {
      "cell_type": "code",
      "source": [
        "# relationship between restaurants and revenue\n",
        "revenue_by_restaurant = df.groupby(['restaurant_name'])['cost_of_the_order'].sum().sort_values(ascending = False).head(10)\n",
        "\n",
        "# format as a table, nicer presentation\n",
        "# convert the result to a DataFrame and reset index\n",
        "restaurant_table = pd.DataFrame(revenue_by_restaurant).reset_index()\n",
        "\n",
        "# rename columns for clarity\n",
        "restaurant_table.columns = ['Restaurant Name', 'Total Revenue']\n",
        "\n",
        "# display the table with font properties, gridlines, and formatting\n",
        "display(restaurant_table.style.set_properties(**{'font-family': 'Arial'}).set_table_styles([\n",
        "    dict(selector=\"th\", props=[('font-size', '12pt'), ('font-family', 'Arial')]),\n",
        "    dict(selector=\"td\", props=[('font-size', '12pt'), ('font-family', 'Arial')]),\n",
        "    dict(selector=\"table\", props=[('border', '1px solid black')]),\n",
        "]).format({'Total Revenue': '{:.2f}'}))"
      ],
      "metadata": {
        "colab": {
          "base_uri": "https://localhost:8080/",
          "height": 412
        },
        "id": "k3pGUgFsO6-8",
        "outputId": "633b6c49-f93e-4a7e-ca3e-af16f57c7ed1"
      },
      "execution_count": null,
      "outputs": [
        {
          "output_type": "display_data",
          "data": {
            "text/plain": [
              "<pandas.io.formats.style.Styler at 0x7cc0d4c71f90>"
            ],
            "text/html": [
              "<style type=\"text/css\">\n",
              "#T_f9c9b th {\n",
              "  font-size: 12pt;\n",
              "  font-family: Arial;\n",
              "}\n",
              "#T_f9c9b td {\n",
              "  font-size: 12pt;\n",
              "  font-family: Arial;\n",
              "}\n",
              "#T_f9c9b table {\n",
              "  border: 1px solid black;\n",
              "}\n",
              "#T_f9c9b_row0_col0, #T_f9c9b_row0_col1, #T_f9c9b_row1_col0, #T_f9c9b_row1_col1, #T_f9c9b_row2_col0, #T_f9c9b_row2_col1, #T_f9c9b_row3_col0, #T_f9c9b_row3_col1, #T_f9c9b_row4_col0, #T_f9c9b_row4_col1, #T_f9c9b_row5_col0, #T_f9c9b_row5_col1, #T_f9c9b_row6_col0, #T_f9c9b_row6_col1, #T_f9c9b_row7_col0, #T_f9c9b_row7_col1, #T_f9c9b_row8_col0, #T_f9c9b_row8_col1, #T_f9c9b_row9_col0, #T_f9c9b_row9_col1 {\n",
              "  font-family: Arial;\n",
              "}\n",
              "</style>\n",
              "<table id=\"T_f9c9b\" class=\"dataframe\">\n",
              "  <thead>\n",
              "    <tr>\n",
              "      <th class=\"blank level0\" >&nbsp;</th>\n",
              "      <th id=\"T_f9c9b_level0_col0\" class=\"col_heading level0 col0\" >Restaurant Name</th>\n",
              "      <th id=\"T_f9c9b_level0_col1\" class=\"col_heading level0 col1\" >Total Revenue</th>\n",
              "    </tr>\n",
              "  </thead>\n",
              "  <tbody>\n",
              "    <tr>\n",
              "      <th id=\"T_f9c9b_level0_row0\" class=\"row_heading level0 row0\" >0</th>\n",
              "      <td id=\"T_f9c9b_row0_col0\" class=\"data row0 col0\" >Shake Shack</td>\n",
              "      <td id=\"T_f9c9b_row0_col1\" class=\"data row0 col1\" >3579.53</td>\n",
              "    </tr>\n",
              "    <tr>\n",
              "      <th id=\"T_f9c9b_level0_row1\" class=\"row_heading level0 row1\" >1</th>\n",
              "      <td id=\"T_f9c9b_row1_col0\" class=\"data row1 col0\" >The Meatball Shop</td>\n",
              "      <td id=\"T_f9c9b_row1_col1\" class=\"data row1 col1\" >2145.21</td>\n",
              "    </tr>\n",
              "    <tr>\n",
              "      <th id=\"T_f9c9b_level0_row2\" class=\"row_heading level0 row2\" >2</th>\n",
              "      <td id=\"T_f9c9b_row2_col0\" class=\"data row2 col0\" >Blue Ribbon Sushi</td>\n",
              "      <td id=\"T_f9c9b_row2_col1\" class=\"data row2 col1\" >1903.95</td>\n",
              "    </tr>\n",
              "    <tr>\n",
              "      <th id=\"T_f9c9b_level0_row3\" class=\"row_heading level0 row3\" >3</th>\n",
              "      <td id=\"T_f9c9b_row3_col0\" class=\"data row3 col0\" >Blue Ribbon Fried Chicken</td>\n",
              "      <td id=\"T_f9c9b_row3_col1\" class=\"data row3 col1\" >1662.29</td>\n",
              "    </tr>\n",
              "    <tr>\n",
              "      <th id=\"T_f9c9b_level0_row4\" class=\"row_heading level0 row4\" >4</th>\n",
              "      <td id=\"T_f9c9b_row4_col0\" class=\"data row4 col0\" >Parm</td>\n",
              "      <td id=\"T_f9c9b_row4_col1\" class=\"data row4 col1\" >1112.76</td>\n",
              "    </tr>\n",
              "    <tr>\n",
              "      <th id=\"T_f9c9b_level0_row5\" class=\"row_heading level0 row5\" >5</th>\n",
              "      <td id=\"T_f9c9b_row5_col0\" class=\"data row5 col0\" >RedFarm Broadway</td>\n",
              "      <td id=\"T_f9c9b_row5_col1\" class=\"data row5 col1\" >965.13</td>\n",
              "    </tr>\n",
              "    <tr>\n",
              "      <th id=\"T_f9c9b_level0_row6\" class=\"row_heading level0 row6\" >6</th>\n",
              "      <td id=\"T_f9c9b_row6_col0\" class=\"data row6 col0\" >RedFarm Hudson</td>\n",
              "      <td id=\"T_f9c9b_row6_col1\" class=\"data row6 col1\" >921.21</td>\n",
              "    </tr>\n",
              "    <tr>\n",
              "      <th id=\"T_f9c9b_level0_row7\" class=\"row_heading level0 row7\" >7</th>\n",
              "      <td id=\"T_f9c9b_row7_col0\" class=\"data row7 col0\" >TAO</td>\n",
              "      <td id=\"T_f9c9b_row7_col1\" class=\"data row7 col1\" >834.50</td>\n",
              "    </tr>\n",
              "    <tr>\n",
              "      <th id=\"T_f9c9b_level0_row8\" class=\"row_heading level0 row8\" >8</th>\n",
              "      <td id=\"T_f9c9b_row8_col0\" class=\"data row8 col0\" >Han Dynasty</td>\n",
              "      <td id=\"T_f9c9b_row8_col1\" class=\"data row8 col1\" >755.29</td>\n",
              "    </tr>\n",
              "    <tr>\n",
              "      <th id=\"T_f9c9b_level0_row9\" class=\"row_heading level0 row9\" >9</th>\n",
              "      <td id=\"T_f9c9b_row9_col0\" class=\"data row9 col0\" >Blue Ribbon Sushi Bar & Grill</td>\n",
              "      <td id=\"T_f9c9b_row9_col1\" class=\"data row9 col1\" >666.62</td>\n",
              "    </tr>\n",
              "  </tbody>\n",
              "</table>\n"
            ]
          },
          "metadata": {}
        }
      ]
    },
    {
      "cell_type": "markdown",
      "source": [
        "####Observations\n",
        "\n",
        "* We know that American cuisine is the most popular, which may account for its ranking as first in terms of highest revenue.\n",
        "* We can see that four types of cuisine proffer the highest revenue: American, Japanese, Italian, and Chinese, which mirror our calculations to determine the most popular cuisines"
      ],
      "metadata": {
        "id": "kdxXZ1H2P_z9"
      }
    },
    {
      "cell_type": "markdown",
      "source": [
        "####Relationship between customers and revenue"
      ],
      "metadata": {
        "id": "QuWMFPFbvM4z"
      }
    },
    {
      "cell_type": "code",
      "source": [
        "# relationship between customer and revenue\n",
        "df.groupby(['customer_id'])['cost_of_the_order'].sum().sort_values(ascending = False).head(20)"
      ],
      "metadata": {
        "colab": {
          "base_uri": "https://localhost:8080/"
        },
        "id": "UJ9wASDYsg0x",
        "outputId": "5369aba5-0ad1-4b51-9aff-244556274740"
      },
      "execution_count": null,
      "outputs": [
        {
          "output_type": "execute_result",
          "data": {
            "text/plain": [
              "customer_id\n",
              "52832     225.80\n",
              "250494    183.83\n",
              "47440     158.18\n",
              "276192    146.46\n",
              "83287     139.31\n",
              "259341    130.81\n",
              "97991     122.03\n",
              "82041     120.92\n",
              "115213    115.40\n",
              "60039     109.76\n",
              "97079     107.28\n",
              "64153     103.17\n",
              "127149    103.16\n",
              "60052     102.24\n",
              "65009      99.49\n",
              "229946     99.39\n",
              "275689     98.05\n",
              "107909     97.68\n",
              "125123     95.56\n",
              "91817      95.30\n",
              "Name: cost_of_the_order, dtype: float64"
            ]
          },
          "metadata": {},
          "execution_count": 37
        }
      ]
    },
    {
      "cell_type": "code",
      "source": [
        "total_sum = df['cost_of_the_order'].sum()\n",
        "\n",
        "print(\"Total revenue generated:\", total_sum)"
      ],
      "metadata": {
        "colab": {
          "base_uri": "https://localhost:8080/"
        },
        "id": "6LLFW_OhQ2ce",
        "outputId": "0b0d9b02-8aed-478e-fc26-738d0ccccb31"
      },
      "execution_count": null,
      "outputs": [
        {
          "output_type": "stream",
          "name": "stdout",
          "text": [
            "Total revenue generated: 31314.82\n"
          ]
        }
      ]
    },
    {
      "cell_type": "markdown",
      "source": [
        "####Observations\n",
        "* We can identify the top customers who placed repeated orders\n",
        "* The top twenty of the 1200 customers represent 7.8% of the total revenue generated in this dataset"
      ],
      "metadata": {
        "id": "XgwzHqkr6Axt"
      }
    },
    {
      "cell_type": "markdown",
      "source": [
        "**Ratings Analyses**"
      ],
      "metadata": {
        "id": "SJEdUXLqLVsh"
      }
    },
    {
      "cell_type": "markdown",
      "source": [
        "####Relationship between cuisine type and whether deliveries are rated"
      ],
      "metadata": {
        "id": "1DR_mi1XvbY0"
      }
    },
    {
      "cell_type": "code",
      "source": [
        "# relationship between cuisine type and presence of ratings\n",
        "# create subsets to separate orders with ratings from orders missing ratings\n",
        "rating = df[df['rating'].notnull()]\n",
        "no_rating = df[df['rating'].isnull()]\n",
        "\n",
        "rating_cuisine = rating['cuisine_type'].value_counts()\n",
        "no_rating_cuisine = no_rating['cuisine_type'].value_counts()\n",
        "\n",
        "# plot side by side comparison charts\n",
        "plt.figure(figsize = (12, 6))\n",
        "\n",
        "# first plot\n",
        "ax1 = plt.subplot(1, 2, 1)\n",
        "sns.barplot(x = rating_cuisine.index, y = no_rating_cuisine.values, hue = no_rating_cuisine, palette = \"cividis_r\", legend = False)\n",
        "plt.xlabel(\"Cuisine Orders with Ratings\")\n",
        "plt.ylabel(\"Ratings Count\")\n",
        "plt.xticks(rotation = 45)\n",
        "sns.despine()\n",
        "\n",
        "# second plot\n",
        "ax2 = plt.subplot(1,2,2, sharey=ax1)\n",
        "sns.barplot(x = no_rating_cuisine.index, y = rating_cuisine.values, hue = no_rating_cuisine, palette = \"cividis_r\", legend = False)\n",
        "plt.xlabel(\"Cuisine Orders without Ratings\")\n",
        "plt.ylabel(\"No Ratings Count\")\n",
        "plt.xticks(rotation = 45)\n",
        "sns.despine()\n",
        "plt.suptitle\n",
        "plt.tight_layout()\n",
        "plt.show()"
      ],
      "metadata": {
        "colab": {
          "base_uri": "https://localhost:8080/",
          "height": 607
        },
        "id": "_nEHia1NzaIT",
        "outputId": "10a5d6c8-67ee-427a-9751-02048d52e08a"
      },
      "execution_count": null,
      "outputs": [
        {
          "output_type": "display_data",
          "data": {
            "text/plain": [
              "<Figure size 1200x600 with 2 Axes>"
            ],
            "image/png": "[encoded data removed]"
          },
          "metadata": {}
        }
      ]
    },
    {
      "cell_type": "markdown",
      "source": [
        "####Relationship between rating values and cost of order"
      ],
      "metadata": {
        "id": "JNqCBtrgvk_-"
      }
    },
    {
      "cell_type": "code",
      "source": [
        "# explore relationship between ratings and cost of order\n",
        "\n",
        "# find the range of order costs\n",
        "min_cost = (df['cost_of_the_order'].min())\n",
        "max_cost = (df['cost_of_the_order'].max())\n",
        "print('The minimum cost of all orders is', min_cost)\n",
        "print('the maximum cost of all orders is', max_cost)"
      ],
      "metadata": {
        "colab": {
          "base_uri": "https://localhost:8080/"
        },
        "id": "12rvURKq3sVO",
        "outputId": "30e709c5-444d-403c-fc89-bd1285e9e5f6"
      },
      "execution_count": null,
      "outputs": [
        {
          "output_type": "stream",
          "name": "stdout",
          "text": [
            "The minimum cost of all orders is 4.47\n",
            "the maximum cost of all orders is 35.41\n"
          ]
        }
      ]
    },
    {
      "cell_type": "markdown",
      "source": [
        "####Observations\n",
        "* Because there is a significant cost range among all orders, the orders will be binned, or grouped, for analysis"
      ],
      "metadata": {
        "id": "nGv3Z9sxx2Eh"
      }
    },
    {
      "cell_type": "code",
      "source": [
        "# explore the relationship between cost and presence of ratings\n",
        "\n",
        "# separate numerical values from NaN\n",
        "rating = df[df['rating'].isna()]\n",
        "no_rating = df[~df['rating'].isna()]\n",
        "\n",
        "# define the number of bins and bin edges\n",
        "num_bins = 10\n",
        "bin_edges = np.linspace(4.47, 35.41, num_bins + 1)\n",
        "\n",
        "# bin the order costs because they are numerous\n",
        "df['cost_bin'] = pd.cut(df['cost_of_the_order'], bins=bin_edges)\n",
        "\n",
        "# count ratings in each bin\n",
        "ratings_counts = df.groupby(['cost_bin', df['rating'].isna()])['cost_of_the_order'].count().unstack(fill_value=0)\n",
        "\n",
        "# calculate total counts for each bin\n",
        "total_counts = ratings_counts.sum(axis=1)\n",
        "\n",
        "# calculate percentage of each bin\n",
        "percentages = ratings_counts.div(total_counts, axis=0) * 100\n",
        "\n",
        "plt.figure(figsize=(12, 6))\n",
        "percentages.plot(kind='bar', stacked=True, color=[\"#151e3d\", \"darkkhaki\"], width=0.8)\n",
        "plt.title('Comparison of Ratings Presence by Order Cost Bins')\n",
        "plt.xlabel('Order Cost Bins')\n",
        "plt.ylabel('Percentage')\n",
        "plt.xticks(np.arange(num_bins), [f'{bin_edges[i]:.2f}-{bin_edges[i+1]:.2f}' for i in range(num_bins)], rotation=45)\n",
        "plt.legend(['With Ratings', 'Without Ratings'])\n",
        "sns.despine()\n",
        "\n",
        "plt.tight_layout()\n",
        "plt.show()"
      ],
      "metadata": {
        "colab": {
          "base_uri": "https://localhost:8080/",
          "height": 504
        },
        "id": "gaeRQSfx_6SM",
        "outputId": "007f0afe-4539-49b4-f6ba-56b153f6930a"
      },
      "execution_count": null,
      "outputs": [
        {
          "output_type": "display_data",
          "data": {
            "text/plain": [
              "<Figure size 1200x600 with 0 Axes>"
            ]
          },
          "metadata": {}
        },
        {
          "output_type": "display_data",
          "data": {
            "text/plain": [
              "<Figure size 640x480 with 1 Axes>"
            ],
            "image/png": "[encoded data removed]"
          },
          "metadata": {}
        }
      ]
    },
    {
      "cell_type": "markdown",
      "source": [
        "####Observations\n",
        "* The relationship between the cost of the order and whether the order/delivery was rated is approximately equal, no matter the cost, around 60%."
      ],
      "metadata": {
        "id": "ZGvH91Q_jrxH"
      }
    },
    {
      "cell_type": "markdown",
      "source": [
        "####Relationship between time to deliver and rating values v. total order time (food preparation & delivery) and rating values"
      ],
      "metadata": {
        "id": "zw4zqSuEvr1a"
      }
    },
    {
      "cell_type": "code",
      "source": [
        "# show relationship between delivery time and rating values and total order time (food prep and delivery) and rating values\n",
        "\n",
        "# calculate minimum and maximum ratings to plot y axis\n",
        "min_rat = df['rating'].min()\n",
        "max_rat = df['rating'].max()\n",
        "\n",
        "# calculate total time for order preparation and delivery time\n",
        "df[\"prep_delivery\"] = df[\"food_preparation_time\"] + df['delivery_time']\n",
        "\n",
        "plt.figure(figsize=(15, 7))\n",
        "\n",
        "# first subplot: delivery time\n",
        "ax1 = plt.subplot(1, 2, 1)\n",
        "sns.pointplot(data=df, x='delivery_time', y='rating', color=\"#151e3d\")\n",
        "plt.xlabel('Delivery Time')\n",
        "plt.ylabel('Rating Range')\n",
        "plt.ylim(min_rat, max_rat)\n",
        "sns.despine()\n",
        "\n",
        "# second subplot: aggregated delivery and food prep time\n",
        "ax2 = plt.subplot(1, 2, 2)\n",
        "sns.pointplot(data=df, x='prep_delivery', y='rating', color=\"darkkhaki\")\n",
        "plt.xlabel('Food Prep & Delivery Time Combined')\n",
        "plt.ylabel('Rating')\n",
        "plt.ylim(min_rat, max_rat)\n",
        "sns.despine()\n",
        "\n",
        "\n",
        "plt.tight_layout()\n",
        "plt.show()\n"
      ],
      "metadata": {
        "colab": {
          "base_uri": "https://localhost:8080/",
          "height": 707
        },
        "id": "UAeuKl2Ec7eE",
        "outputId": "d7b7b139-36b3-4448-9f89-39e8d327f206"
      },
      "execution_count": null,
      "outputs": [
        {
          "output_type": "display_data",
          "data": {
            "text/plain": [
              "<Figure size 1500x700 with 2 Axes>"
            ],
            "image/png": "[encoded data removed]"
          },
          "metadata": {}
        }
      ]
    },
    {
      "cell_type": "markdown",
      "source": [
        "####Observations\n",
        "* The customers who provided ratings seem generally satisfied with their order as the minimum rating recorded was 3, and the maximum rating was 5.\n",
        "* Not shown here is an exploration of the relationship between food prep time and ratings because they practically mirrored the delivery time rating pattern and range.\n",
        "* Interestingly, the amount of time for an order to be prepared and delivered did not seem to skew the ratings. That is, the rating range seemed consistent, whether the food was delivered more quickly or not."
      ],
      "metadata": {
        "id": "TBSvn5cwihor"
      }
    },
    {
      "cell_type": "markdown",
      "metadata": {
        "id": "YLkMf09YJY_V"
      },
      "source": [
        "The company wants to provide a promotional offer in the advertisement of the restaurants. The condition to get the offer is that the restaurants must have a rating count of more than 50 and the average rating should be greater than 4. Find the restaurants fulfilling the criteria to get the promotional offer."
      ]
    },
    {
      "cell_type": "code",
      "execution_count": null,
      "metadata": {
        "id": "0M_QDvbYJY_V",
        "colab": {
          "base_uri": "https://localhost:8080/"
        },
        "outputId": "36d92b15-da54-418d-b043-89280217457d"
      },
      "outputs": [
        {
          "output_type": "stream",
          "name": "stdout",
          "text": [
            "Index(['Blue Ribbon Fried Chicken', 'Blue Ribbon Sushi', 'Shake Shack',\n",
            "       'The Meatball Shop'],\n",
            "      dtype='object', name='restaurant_name')\n"
          ]
        }
      ],
      "source": [
        "# rating column has either NaN or numeric values and is ready for calculation\n",
        "# find the restaurants with aggregate rating count greater than 50\n",
        "rating_counts = df.groupby('restaurant_name')['rating'].count()\n",
        "rest_over_50 = rating_counts[rating_counts > 50].index\n",
        "print(rest_over_50)"
      ]
    },
    {
      "cell_type": "code",
      "source": [
        "# create dataframe with restaurants with ratings more than 50\n",
        "df_over_50 = df[df['restaurant_name'].isin(rest_over_50)]\n",
        "\n",
        "# calculate average rating in new dataframe\n",
        "ave_rating_over_50 = df_over_50.groupby('restaurant_name')['rating'].mean()\n",
        "print(ave_rating_over_50)"
      ],
      "metadata": {
        "id": "AVzpPPjy_0nQ",
        "colab": {
          "base_uri": "https://localhost:8080/"
        },
        "outputId": "2592536c-6d13-4e88-9beb-f1ef5146e4b9"
      },
      "execution_count": null,
      "outputs": [
        {
          "output_type": "stream",
          "name": "stdout",
          "text": [
            "restaurant_name\n",
            "Blue Ribbon Fried Chicken    4.328125\n",
            "Blue Ribbon Sushi            4.219178\n",
            "Shake Shack                  4.278195\n",
            "The Meatball Shop            4.511905\n",
            "Name: rating, dtype: float64\n"
          ]
        }
      ]
    },
    {
      "cell_type": "markdown",
      "metadata": {
        "id": "10uryUMhJY_V"
      },
      "source": [
        "#### Observations\n",
        "* The four restaurants who qualify for the promotional offer are:\n",
        "    * Blue Ribbon Fried Chicken\n",
        "    * Blue Ribbon Sushi\n",
        "    * Shake Shack\n",
        "    * The Meatball Shop\n",
        "\n",
        "* The restaurants who qualify for the offer correspond to  three of the top four cuisine types: American, Japanese, and Italian\n"
      ]
    },
    {
      "cell_type": "markdown",
      "metadata": {
        "id": "1gvWBkRUJY_V"
      },
      "source": [
        "Finding the net revenue generated by the company across all orders (the company charges the restaurant 25% on the orders that cost more than 20 dollars and 15% on the orders that cost more than 5 dollars)"
      ]
    },
    {
      "cell_type": "code",
      "execution_count": null,
      "metadata": {
        "id": "rEjbnTNEJY_W",
        "colab": {
          "base_uri": "https://localhost:8080/",
          "height": 206
        },
        "outputId": "fd8db1ea-3d8e-4804-a697-253acd58cba6"
      },
      "outputs": [
        {
          "output_type": "execute_result",
          "data": {
            "text/plain": [
              "   order_id  customer_id            restaurant_name cuisine_type  \\\n",
              "0   1477147       337525                    Hangawi       Korean   \n",
              "1   1477685       358141  Blue Ribbon Sushi Izakaya     Japanese   \n",
              "2   1477070        66393                Cafe Habana      Mexican   \n",
              "3   1477334       106968  Blue Ribbon Fried Chicken     American   \n",
              "4   1478249        76942           Dirty Bird to Go     American   \n",
              "\n",
              "   cost_of_the_order day_of_the_week  rating  food_preparation_time  \\\n",
              "0              30.75         Weekend     NaN                     25   \n",
              "1              12.08         Weekend     NaN                     25   \n",
              "2              12.23         Weekday     5.0                     23   \n",
              "3              29.20         Weekend     3.0                     25   \n",
              "4              11.59         Weekday     4.0                     25   \n",
              "\n",
              "   delivery_time          cost_bin  prep_delivery  total_revenue  \n",
              "0             20  (29.222, 32.316]             45         7.6875  \n",
              "1             23  (10.658, 13.752]             48         1.8120  \n",
              "2             28  (10.658, 13.752]             51         1.8345  \n",
              "3             15  (26.128, 29.222]             40         7.3000  \n",
              "4             24  (10.658, 13.752]             49         1.7385  "
            ],
            "text/html": [
              "\n",
              "  <div id=\"df-4eef454b-8307-4156-8963-2dde1ef16200\" class=\"colab-df-container\">\n",
              "    <div>\n",
              "<style scoped>\n",
              "    .dataframe tbody tr th:only-of-type {\n",
              "        vertical-align: middle;\n",
              "    }\n",
              "\n",
              "    .dataframe tbody tr th {\n",
              "        vertical-align: top;\n",
              "    }\n",
              "\n",
              "    .dataframe thead th {\n",
              "        text-align: right;\n",
              "    }\n",
              "</style>\n",
              "<table border=\"1\" class=\"dataframe\">\n",
              "  <thead>\n",
              "    <tr style=\"text-align: right;\">\n",
              "      <th></th>\n",
              "      <th>order_id</th>\n",
              "      <th>customer_id</th>\n",
              "      <th>restaurant_name</th>\n",
              "      <th>cuisine_type</th>\n",
              "      <th>cost_of_the_order</th>\n",
              "      <th>day_of_the_week</th>\n",
              "      <th>rating</th>\n",
              "      <th>food_preparation_time</th>\n",
              "      <th>delivery_time</th>\n",
              "      <th>cost_bin</th>\n",
              "      <th>prep_delivery</th>\n",
              "      <th>total_revenue</th>\n",
              "    </tr>\n",
              "  </thead>\n",
              "  <tbody>\n",
              "    <tr>\n",
              "      <th>0</th>\n",
              "      <td>1477147</td>\n",
              "      <td>337525</td>\n",
              "      <td>Hangawi</td>\n",
              "      <td>Korean</td>\n",
              "      <td>30.75</td>\n",
              "      <td>Weekend</td>\n",
              "      <td>NaN</td>\n",
              "      <td>25</td>\n",
              "      <td>20</td>\n",
              "      <td>(29.222, 32.316]</td>\n",
              "      <td>45</td>\n",
              "      <td>7.6875</td>\n",
              "    </tr>\n",
              "    <tr>\n",
              "      <th>1</th>\n",
              "      <td>1477685</td>\n",
              "      <td>358141</td>\n",
              "      <td>Blue Ribbon Sushi Izakaya</td>\n",
              "      <td>Japanese</td>\n",
              "      <td>12.08</td>\n",
              "      <td>Weekend</td>\n",
              "      <td>NaN</td>\n",
              "      <td>25</td>\n",
              "      <td>23</td>\n",
              "      <td>(10.658, 13.752]</td>\n",
              "      <td>48</td>\n",
              "      <td>1.8120</td>\n",
              "    </tr>\n",
              "    <tr>\n",
              "      <th>2</th>\n",
              "      <td>1477070</td>\n",
              "      <td>66393</td>\n",
              "      <td>Cafe Habana</td>\n",
              "      <td>Mexican</td>\n",
              "      <td>12.23</td>\n",
              "      <td>Weekday</td>\n",
              "      <td>5.0</td>\n",
              "      <td>23</td>\n",
              "      <td>28</td>\n",
              "      <td>(10.658, 13.752]</td>\n",
              "      <td>51</td>\n",
              "      <td>1.8345</td>\n",
              "    </tr>\n",
              "    <tr>\n",
              "      <th>3</th>\n",
              "      <td>1477334</td>\n",
              "      <td>106968</td>\n",
              "      <td>Blue Ribbon Fried Chicken</td>\n",
              "      <td>American</td>\n",
              "      <td>29.20</td>\n",
              "      <td>Weekend</td>\n",
              "      <td>3.0</td>\n",
              "      <td>25</td>\n",
              "      <td>15</td>\n",
              "      <td>(26.128, 29.222]</td>\n",
              "      <td>40</td>\n",
              "      <td>7.3000</td>\n",
              "    </tr>\n",
              "    <tr>\n",
              "      <th>4</th>\n",
              "      <td>1478249</td>\n",
              "      <td>76942</td>\n",
              "      <td>Dirty Bird to Go</td>\n",
              "      <td>American</td>\n",
              "      <td>11.59</td>\n",
              "      <td>Weekday</td>\n",
              "      <td>4.0</td>\n",
              "      <td>25</td>\n",
              "      <td>24</td>\n",
              "      <td>(10.658, 13.752]</td>\n",
              "      <td>49</td>\n",
              "      <td>1.7385</td>\n",
              "    </tr>\n",
              "  </tbody>\n",
              "</table>\n",
              "</div>\n",
              "    <div class=\"colab-df-buttons\">\n",
              "\n",
              "  <div class=\"colab-df-container\">\n",
              "    <button class=\"colab-df-convert\" onclick=\"convertToInteractive('df-4eef454b-8307-4156-8963-2dde1ef16200')\"\n",
              "            title=\"Convert this dataframe to an interactive table.\"\n",
              "            style=\"display:none;\">\n",
              "\n",
              "  <svg xmlns=\"http://www.w3.org/2000/svg\" height=\"24px\" viewBox=\"0 -960 960 960\">\n",
              "    <path d=\"M120-120v-720h720v720H120Zm60-500h600v-160H180v160Zm220 220h160v-160H400v160Zm0 220h160v-160H400v160ZM180-400h160v-160H180v160Zm440 0h160v-160H620v160ZM180-180h160v-160H180v160Zm440 0h160v-160H620v160Z\"/>\n",
              "  </svg>\n",
              "    </button>\n",
              "\n",
              "  <style>\n",
              "    .colab-df-container {\n",
              "      display:flex;\n",
              "      gap: 12px;\n",
              "    }\n",
              "\n",
              "    .colab-df-convert {\n",
              "      background-color: #E8F0FE;\n",
              "      border: none;\n",
              "      border-radius: 50%;\n",
              "      cursor: pointer;\n",
              "      display: none;\n",
              "      fill: #1967D2;\n",
              "      height: 32px;\n",
              "      padding: 0 0 0 0;\n",
              "      width: 32px;\n",
              "    }\n",
              "\n",
              "    .colab-df-convert:hover {\n",
              "      background-color: #E2EBFA;\n",
              "      box-shadow: 0px 1px 2px rgba(60, 64, 67, 0.3), 0px 1px 3px 1px rgba(60, 64, 67, 0.15);\n",
              "      fill: #174EA6;\n",
              "    }\n",
              "\n",
              "    .colab-df-buttons div {\n",
              "      margin-bottom: 4px;\n",
              "    }\n",
              "\n",
              "    [theme=dark] .colab-df-convert {\n",
              "      background-color: #3B4455;\n",
              "      fill: #D2E3FC;\n",
              "    }\n",
              "\n",
              "    [theme=dark] .colab-df-convert:hover {\n",
              "      background-color: #434B5C;\n",
              "      box-shadow: 0px 1px 3px 1px rgba(0, 0, 0, 0.15);\n",
              "      filter: drop-shadow(0px 1px 2px rgba(0, 0, 0, 0.3));\n",
              "      fill: #FFFFFF;\n",
              "    }\n",
              "  </style>\n",
              "\n",
              "    <script>\n",
              "      const buttonEl =\n",
              "        document.querySelector('#df-4eef454b-8307-4156-8963-2dde1ef16200 button.colab-df-convert');\n",
              "      buttonEl.style.display =\n",
              "        google.colab.kernel.accessAllowed ? 'block' : 'none';\n",
              "\n",
              "      async function convertToInteractive(key) {\n",
              "        const element = document.querySelector('#df-4eef454b-8307-4156-8963-2dde1ef16200');\n",
              "        const dataTable =\n",
              "          await google.colab.kernel.invokeFunction('convertToInteractive',\n",
              "                                                    [key], {});\n",
              "        if (!dataTable) return;\n",
              "\n",
              "        const docLinkHtml = 'Like what you see? Visit the ' +\n",
              "          '<a target=\"_blank\" href=https://colab.research.google.com/notebooks/data_table.ipynb>data table notebook</a>'\n",
              "          + ' to learn more about interactive tables.';\n",
              "        element.innerHTML = '';\n",
              "        dataTable['output_type'] = 'display_data';\n",
              "        await google.colab.output.renderOutput(dataTable, element);\n",
              "        const docLink = document.createElement('div');\n",
              "        docLink.innerHTML = docLinkHtml;\n",
              "        element.appendChild(docLink);\n",
              "      }\n",
              "    </script>\n",
              "  </div>\n",
              "\n",
              "\n",
              "<div id=\"df-cdd60ff4-acc0-46b1-9f91-8a702e7602bc\">\n",
              "  <button class=\"colab-df-quickchart\" onclick=\"quickchart('df-cdd60ff4-acc0-46b1-9f91-8a702e7602bc')\"\n",
              "            title=\"Suggest charts\"\n",
              "            style=\"display:none;\">\n",
              "\n",
              "<svg xmlns=\"http://www.w3.org/2000/svg\" height=\"24px\"viewBox=\"0 0 24 24\"\n",
              "     width=\"24px\">\n",
              "    <g>\n",
              "        <path d=\"M19 3H5c-1.1 0-2 .9-2 2v14c0 1.1.9 2 2 2h14c1.1 0 2-.9 2-2V5c0-1.1-.9-2-2-2zM9 17H7v-7h2v7zm4 0h-2V7h2v10zm4 0h-2v-4h2v4z\"/>\n",
              "    </g>\n",
              "</svg>\n",
              "  </button>\n",
              "\n",
              "<style>\n",
              "  .colab-df-quickchart {\n",
              "      --bg-color: #E8F0FE;\n",
              "      --fill-color: #1967D2;\n",
              "      --hover-bg-color: #E2EBFA;\n",
              "      --hover-fill-color: #174EA6;\n",
              "      --disabled-fill-color: #AAA;\n",
              "      --disabled-bg-color: #DDD;\n",
              "  }\n",
              "\n",
              "  [theme=dark] .colab-df-quickchart {\n",
              "      --bg-color: #3B4455;\n",
              "      --fill-color: #D2E3FC;\n",
              "      --hover-bg-color: #434B5C;\n",
              "      --hover-fill-color: #FFFFFF;\n",
              "      --disabled-bg-color: #3B4455;\n",
              "      --disabled-fill-color: #666;\n",
              "  }\n",
              "\n",
              "  .colab-df-quickchart {\n",
              "    background-color: var(--bg-color);\n",
              "    border: none;\n",
              "    border-radius: 50%;\n",
              "    cursor: pointer;\n",
              "    display: none;\n",
              "    fill: var(--fill-color);\n",
              "    height: 32px;\n",
              "    padding: 0;\n",
              "    width: 32px;\n",
              "  }\n",
              "\n",
              "  .colab-df-quickchart:hover {\n",
              "    background-color: var(--hover-bg-color);\n",
              "    box-shadow: 0 1px 2px rgba(60, 64, 67, 0.3), 0 1px 3px 1px rgba(60, 64, 67, 0.15);\n",
              "    fill: var(--button-hover-fill-color);\n",
              "  }\n",
              "\n",
              "  .colab-df-quickchart-complete:disabled,\n",
              "  .colab-df-quickchart-complete:disabled:hover {\n",
              "    background-color: var(--disabled-bg-color);\n",
              "    fill: var(--disabled-fill-color);\n",
              "    box-shadow: none;\n",
              "  }\n",
              "\n",
              "  .colab-df-spinner {\n",
              "    border: 2px solid var(--fill-color);\n",
              "    border-color: transparent;\n",
              "    border-bottom-color: var(--fill-color);\n",
              "    animation:\n",
              "      spin 1s steps(1) infinite;\n",
              "  }\n",
              "\n",
              "  @keyframes spin {\n",
              "    0% {\n",
              "      border-color: transparent;\n",
              "      border-bottom-color: var(--fill-color);\n",
              "      border-left-color: var(--fill-color);\n",
              "    }\n",
              "    20% {\n",
              "      border-color: transparent;\n",
              "      border-left-color: var(--fill-color);\n",
              "      border-top-color: var(--fill-color);\n",
              "    }\n",
              "    30% {\n",
              "      border-color: transparent;\n",
              "      border-left-color: var(--fill-color);\n",
              "      border-top-color: var(--fill-color);\n",
              "      border-right-color: var(--fill-color);\n",
              "    }\n",
              "    40% {\n",
              "      border-color: transparent;\n",
              "      border-right-color: var(--fill-color);\n",
              "      border-top-color: var(--fill-color);\n",
              "    }\n",
              "    60% {\n",
              "      border-color: transparent;\n",
              "      border-right-color: var(--fill-color);\n",
              "    }\n",
              "    80% {\n",
              "      border-color: transparent;\n",
              "      border-right-color: var(--fill-color);\n",
              "      border-bottom-color: var(--fill-color);\n",
              "    }\n",
              "    90% {\n",
              "      border-color: transparent;\n",
              "      border-bottom-color: var(--fill-color);\n",
              "    }\n",
              "  }\n",
              "</style>\n",
              "\n",
              "  <script>\n",
              "    async function quickchart(key) {\n",
              "      const quickchartButtonEl =\n",
              "        document.querySelector('#' + key + ' button');\n",
              "      quickchartButtonEl.disabled = true;  // To prevent multiple clicks.\n",
              "      quickchartButtonEl.classList.add('colab-df-spinner');\n",
              "      try {\n",
              "        const charts = await google.colab.kernel.invokeFunction(\n",
              "            'suggestCharts', [key], {});\n",
              "      } catch (error) {\n",
              "        console.error('Error during call to suggestCharts:', error);\n",
              "      }\n",
              "      quickchartButtonEl.classList.remove('colab-df-spinner');\n",
              "      quickchartButtonEl.classList.add('colab-df-quickchart-complete');\n",
              "    }\n",
              "    (() => {\n",
              "      let quickchartButtonEl =\n",
              "        document.querySelector('#df-cdd60ff4-acc0-46b1-9f91-8a702e7602bc button');\n",
              "      quickchartButtonEl.style.display =\n",
              "        google.colab.kernel.accessAllowed ? 'block' : 'none';\n",
              "    })();\n",
              "  </script>\n",
              "</div>\n",
              "    </div>\n",
              "  </div>\n"
            ],
            "application/vnd.google.colaboratory.intrinsic+json": {
              "type": "dataframe",
              "variable_name": "df",
              "summary": "{\n  \"name\": \"df\",\n  \"rows\": 1898,\n  \"fields\": [\n    {\n      \"column\": \"order_id\",\n      \"properties\": {\n        \"dtype\": \"number\",\n        \"std\": 548,\n        \"min\": 1476547,\n        \"max\": 1478444,\n        \"num_unique_values\": 1898,\n        \"samples\": [\n          1477722,\n          1478319,\n          1477650\n        ],\n        \"semantic_type\": \"\",\n        \"description\": \"\"\n      }\n    },\n    {\n      \"column\": \"customer_id\",\n      \"properties\": {\n        \"dtype\": \"number\",\n        \"std\": 113698,\n        \"min\": 1311,\n        \"max\": 405334,\n        \"num_unique_values\": 1200,\n        \"samples\": [\n          351329,\n          49987,\n          345899\n        ],\n        \"semantic_type\": \"\",\n        \"description\": \"\"\n      }\n    },\n    {\n      \"column\": \"restaurant_name\",\n      \"properties\": {\n        \"dtype\": \"category\",\n        \"num_unique_values\": 178,\n        \"samples\": [\n          \"Tortaria\",\n          \"Osteria Morini\",\n          \"Philippe Chow\"\n        ],\n        \"semantic_type\": \"\",\n        \"description\": \"\"\n      }\n    },\n    {\n      \"column\": \"cuisine_type\",\n      \"properties\": {\n        \"dtype\": \"category\",\n        \"num_unique_values\": 14,\n        \"samples\": [\n          \"Thai\",\n          \"French\",\n          \"Korean\"\n        ],\n        \"semantic_type\": \"\",\n        \"description\": \"\"\n      }\n    },\n    {\n      \"column\": \"cost_of_the_order\",\n      \"properties\": {\n        \"dtype\": \"number\",\n        \"std\": 7.48381211004957,\n        \"min\": 4.47,\n        \"max\": 35.41,\n        \"num_unique_values\": 312,\n        \"samples\": [\n          21.29,\n          7.18,\n          13.34\n        ],\n        \"semantic_type\": \"\",\n        \"description\": \"\"\n      }\n    },\n    {\n      \"column\": \"day_of_the_week\",\n      \"properties\": {\n        \"dtype\": \"category\",\n        \"num_unique_values\": 2,\n        \"samples\": [\n          \"Weekday\",\n          \"Weekend\"\n        ],\n        \"semantic_type\": \"\",\n        \"description\": \"\"\n      }\n    },\n    {\n      \"column\": \"rating\",\n      \"properties\": {\n        \"dtype\": \"number\",\n        \"std\": 0.7414783567985952,\n        \"min\": 3.0,\n        \"max\": 5.0,\n        \"num_unique_values\": 3,\n        \"samples\": [\n          5.0,\n          3.0\n        ],\n        \"semantic_type\": \"\",\n        \"description\": \"\"\n      }\n    },\n    {\n      \"column\": \"food_preparation_time\",\n      \"properties\": {\n        \"dtype\": \"number\",\n        \"std\": 4,\n        \"min\": 20,\n        \"max\": 35,\n        \"num_unique_values\": 16,\n        \"samples\": [\n          25,\n          23\n        ],\n        \"semantic_type\": \"\",\n        \"description\": \"\"\n      }\n    },\n    {\n      \"column\": \"delivery_time\",\n      \"properties\": {\n        \"dtype\": \"number\",\n        \"std\": 4,\n        \"min\": 15,\n        \"max\": 33,\n        \"num_unique_values\": 19,\n        \"samples\": [\n          20,\n          21\n        ],\n        \"semantic_type\": \"\",\n        \"description\": \"\"\n      }\n    },\n    {\n      \"column\": \"cost_bin\",\n      \"properties\": {\n        \"dtype\": \"category\",\n        \"num_unique_values\": 10,\n        \"samples\": [\n          \"(32.316, 35.41]\",\n          \"(10.658, 13.752]\"\n        ],\n        \"semantic_type\": \"\",\n        \"description\": \"\"\n      }\n    },\n    {\n      \"column\": \"prep_delivery\",\n      \"properties\": {\n        \"dtype\": \"number\",\n        \"std\": 6,\n        \"min\": 35,\n        \"max\": 68,\n        \"num_unique_values\": 34,\n        \"samples\": [\n          59,\n          60\n        ],\n        \"semantic_type\": \"\",\n        \"description\": \"\"\n      }\n    },\n    {\n      \"column\": \"total_revenue\",\n      \"properties\": {\n        \"dtype\": \"number\",\n        \"std\": 2.295598285490861,\n        \"min\": 0.0,\n        \"max\": 8.8525,\n        \"num_unique_values\": 306,\n        \"samples\": [\n          1.1415,\n          2.3355\n        ],\n        \"semantic_type\": \"\",\n        \"description\": \"\"\n      }\n    }\n  ]\n}"
            }
          },
          "metadata": {},
          "execution_count": 45
        }
      ],
      "source": [
        "def revenue(x):\n",
        "  if x > 20:\n",
        "    return x * 0.25\n",
        "  elif x > 5:\n",
        "    return x * 0.15\n",
        "  else:\n",
        "    return x * 0\n",
        "\n",
        "df['total_revenue'] = df['cost_of_the_order'].apply(revenue)\n",
        "df.head()"
      ]
    },
    {
      "cell_type": "code",
      "source": [
        "total_revenue = df['total_revenue'].sum()\n",
        "print(\"Total revenue generated by the company: ${:.2f}\".format(total_revenue))"
      ],
      "metadata": {
        "id": "xpBsmkRSVded",
        "colab": {
          "base_uri": "https://localhost:8080/"
        },
        "outputId": "01cda3c3-c100-48c2-b553-5ed4100948d5"
      },
      "execution_count": null,
      "outputs": [
        {
          "output_type": "stream",
          "name": "stdout",
          "text": [
            "Total revenue generated by the company: $6166.30\n"
          ]
        }
      ]
    },
    {
      "cell_type": "markdown",
      "metadata": {
        "id": "XHCEJgH0JY_W"
      },
      "source": [
        "#### Observations\n",
        "* It would be interesting to know the time span of the dataset to calculate and see the monthly, quarterly, and yearly revenue trends\n"
      ]
    },
    {
      "cell_type": "markdown",
      "metadata": {
        "id": "pRlVW-oeJY_W"
      },
      "source": [
        "### Total time required to deliver the food: finding the percentage of orders that take more than 60 minutes to get delivered from the time the order is placed?"
      ]
    },
    {
      "cell_type": "code",
      "source": [
        "df['total_time'] = df[\"food_preparation_time\"] + df['delivery_time']\n",
        "more_than_60 = df[df['total_time'] > 60].shape[0]\n",
        "total_orders = df.shape[0]\n",
        "print(f'The percentage of orders that take more than 60 minutes to get delivered from the time the order is placed is {(more_than_60/total_orders) * 100:.2f}%.')"
      ],
      "metadata": {
        "id": "dtzVGyZ5J3ZK",
        "colab": {
          "base_uri": "https://localhost:8080/"
        },
        "outputId": "6264904c-b822-409e-87eb-665868f955c8"
      },
      "execution_count": null,
      "outputs": [
        {
          "output_type": "stream",
          "name": "stdout",
          "text": [
            "The percentage of orders that take more than 60 minutes to get delivered from the time the order is placed is 10.54%.\n"
          ]
        }
      ]
    },
    {
      "cell_type": "markdown",
      "metadata": {
        "id": "iqzBXn2yJY_W"
      },
      "source": [
        "#### Observations:\n",
        "* Because the ratings are high regardless of time of delivery, from a customer's perspective, the total time from order placement to delivery does not seem to affect customer response.\n",
        "* It would be interesting to see whether the total time for order/delivery affects the repeat customer values.\n"
      ]
    },
    {
      "cell_type": "markdown",
      "metadata": {
        "id": "bUd6cYpPJY_W"
      },
      "source": [
        "###Exploring the mean delivery time, weekdays v. weekends?"
      ]
    },
    {
      "cell_type": "code",
      "execution_count": null,
      "metadata": {
        "id": "pIU5xZZ6JY_W",
        "colab": {
          "base_uri": "https://localhost:8080/"
        },
        "outputId": "72a1338d-1ae5-4703-e858-23fbad03cadb"
      },
      "outputs": [
        {
          "output_type": "stream",
          "name": "stdout",
          "text": [
            "The mean delivery time on weekdays is approximately 28 minutes, and the average delivery time on weekends is approximately 22 minutes.\n",
            "The weekend delivery time is approximately 6 minutes faster.\n"
          ]
        }
      ],
      "source": [
        "mean_weekday = round(df[df['day_of_the_week'] == 'Weekday']['delivery_time'].mean())\n",
        "mean_weekend = round(df[df['day_of_the_week'] == 'Weekend']['delivery_time'].mean())\n",
        "\n",
        "print(f'The mean delivery time on weekdays is approximately {mean_weekday} minutes, and the average delivery time on weekends is approximately {mean_weekend} minutes.')\n",
        "print(f'The weekend delivery time is approximately {mean_weekday - mean_weekend} minutes faster.')\n"
      ]
    },
    {
      "cell_type": "markdown",
      "metadata": {
        "id": "8H-ODxbVJY_W"
      },
      "source": [
        "#### Observations:\n",
        "* Although six minutes does not seem significant, weekday delivery is 21% slower. It would be interesting to know why weekend delivery is faster, whether traffic is a factor or number of available drivers, etc.\n"
      ]
    },
    {
      "cell_type": "markdown",
      "metadata": {
        "id": "17roJywaJY_W"
      },
      "source": [
        "### **Conclusion and Recommendations**"
      ]
    },
    {
      "cell_type": "markdown",
      "metadata": {
        "id": "VTugVsL4Ddz-"
      },
      "source": [
        "#### Conclusions:\n",
        "I analyzed a dataset of nearly 2000 food delivery orders information to get a fair idea about the demand of different restaurants. The main feature of interest here is the types of cuisine that are most popular as well as when the orders are most prevalent, in this case weekday or weekend. We can see that American, Italian, Japanese and Chinese are the most popular cuisines, and the busiest time for order delivery is on weekends.\n",
        "\n",
        "We found that:\n",
        "* American, Italian, Japanese and Chinese food are the most popular cuisines\n",
        "\n",
        "* Orders that cost $12-14 showed the most volume\n",
        "\n",
        "* Orders over $20 (and the respective higher percentage fee charged to restaurants) claimed 29% of the total orders\n",
        "* Ratings did not seem affected by the time for delivery; it is curious that there were no ratings below 3\n",
        "* Weekend delivery times were significantly faster than weekday delivery times"
      ]
    },
    {
      "cell_type": "markdown",
      "source": [
        "#### Further Analysis\n",
        "* Because time is one of the most expensive components of single-point delivery, it would be helpful to understand why average delivery time on weekends is 21% faster than on weekdays.\n",
        "* As such, it may be worthwhile to determine the times of day that are most popular (also to ensure the delivery driver availability is well utilized). It may also be worthwhile to map the locations of the restaurants and driver availability accordingly.\n",
        "* Although ratings are high regardless of time of delivery, from a customer's perspective, the total time from order placement to delivery does not seem to affect customer response. However, it would be interesting to see whether the total time for order/delivery affects the repeat customer values.\n",
        "* It would be helpful to know the timespan of the dataset to fully understand the monthly and quarterly trends and how factors including weather, time of day might affect delivery volume."
      ],
      "metadata": {
        "id": "3dRaVRghYs6z"
      }
    },
    {
      "cell_type": "markdown",
      "metadata": {
        "id": "PWnsI0i_guWJ"
      },
      "source": [
        "#### Recommendations:\n",
        "\n",
        "Because American, Japanese and Italian restaurants are often clustered geographically, it may be worthwhile to market delivery services around the most popular restaurants that we've identified.\n",
        "\n",
        "In addition to charging a percentage fee to the restaurant, food delivery industry standards also offer another revenue stream: charging the customer a nominal fee for delivery. It might be worthwhile to explore introducing a nominal delivery fee to be charged to the customer for each order.\n",
        "\n",
        "Given the company charges each restaurant charges 5% more per delivery for orders over 20 dollars and the average cost of a meal is $16.50, perhaps a customer promotion could be implemented to boost the orders over 20 dollars.\n",
        "\n",
        "It might be beneficial to investigate the geographical parameters or other variables that explain the 10% orders that took more than an hour for food preparation and delivery."
      ]
    },
    {
      "cell_type": "markdown",
      "metadata": {
        "id": "tSoucKKbg9Hc"
      },
      "source": [
        "---"
      ]
    }
  ],
  "metadata": {
    "colab": {
      "provenance": [],
      "include_colab_link": true
    },
    "hide_input": false,
    "kernelspec": {
      "display_name": "Python 3 (ipykernel)",
      "language": "python",
      "name": "python3"
    },
    "language_info": {
      "codemirror_mode": {
        "name": "ipython",
        "version": 3
      },
      "file_extension": ".py",
      "mimetype": "text/x-python",
      "name": "python",
      "nbconvert_exporter": "python",
      "pygments_lexer": "ipython3",
      "version": "3.9.7"
    },
    "toc": {
      "base_numbering": 1,
      "nav_menu": {},
      "number_sections": true,
      "sideBar": true,
      "skip_h1_title": false,
      "title_cell": "Table of Contents",
      "title_sidebar": "Contents",
      "toc_cell": false,
      "toc_position": {},
      "toc_section_display": true,
      "toc_window_display": false
    },
    "varInspector": {
      "cols": {
        "lenName": 16,
        "lenType": 16,
        "lenVar": 40
      },
      "kernels_config": {
        "python": {
          "delete_cmd_postfix": "",
          "delete_cmd_prefix": "del ",
          "library": "var_list.py",
          "varRefreshCmd": "print(var_dic_list())"
        },
        "r": {
          "delete_cmd_postfix": ") ",
          "delete_cmd_prefix": "rm(",
          "library": "var_list.r",
          "varRefreshCmd": "cat(var_dic_list()) "
        }
      },
      "types_to_exclude": [
        "module",
        "function",
        "builtin_function_or_method",
        "instance",
        "_Feature"
      ],
      "window_display": false
    }
  },
  "nbformat": 4,
  "nbformat_minor": 0
}